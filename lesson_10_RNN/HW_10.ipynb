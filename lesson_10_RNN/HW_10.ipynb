{
 "cells": [
  {
   "cell_type": "code",
   "execution_count": null,
   "metadata": {},
   "outputs": [],
   "source": [
    "# HW 10"
   ]
  },
  {
   "cell_type": "code",
   "execution_count": 429,
   "metadata": {
    "scrolled": true
   },
   "outputs": [],
   "source": [
    "#!pip install pandas_datareader\n",
    "#!pip install yfinance --upgrade --no-cache-dir\n",
    "\n",
    "#code reference:\n",
    "# https://github.com/robertmartin8/MachineLearningStocks/blob/master/download_historical_prices.py\n",
    "import os\n",
    "from pandas_datareader import data as pdr\n",
    "import pandas as pd\n",
    "import yfinance as yf\n",
    "import numpy as np\n",
    "\n",
    "# TensorFlow ≥2.0 is required\n",
    "import tensorflow as tf\n",
    "from tensorflow import keras\n",
    "from tensorflow.keras.layers import LayerNormalization\n",
    "assert tf.__version__ >= \"2.0\"\n",
    "import os\n",
    "from pathlib import Path\n",
    "\n",
    "\n",
    "import numpy as np\n",
    "import os\n",
    "from pathlib import Path\n",
    "\n",
    "# to make this notebook's output stable across runs\n",
    "np.random.seed(42)\n",
    "tf.random.set_seed(42)\n",
    "\n",
    "# To plot pretty figures\n",
    "%matplotlib inline\n",
    "import matplotlib as mpl\n",
    "import matplotlib.pyplot as plt\n",
    "mpl.rc('axes', labelsize=14)\n",
    "mpl.rc('xtick', labelsize=12)\n",
    "mpl.rc('ytick', labelsize=12)\n",
    "# to make this notebook's output stable across runs\n",
    "np.random.seed(42)\n",
    "tf.random.set_seed(42)\n",
    "\n",
    "START_DATE = \"2017-01-01\"\n",
    "END_DATE = \"2020-07-01\"\n",
    "yf.pdr_override()\n",
    "\n",
    "def build_stock_dataset(ticker_list, start=START_DATE, end=END_DATE):\n",
    "    \"\"\"\n",
    "    Creates the dataset containing all stock prices\n",
    "    :returns: stock_prices.csv\n",
    "    \"\"\"\n",
    "\n",
    "    # Get all Adjusted Close prices for all the tickers in our list,\n",
    "    # between START_DATE and END_DATE\n",
    "    all_data = pdr.get_data_yahoo(ticker_list, start, end)\n",
    "    stock_data = all_data[\"Adj Close\"]\n",
    "\n",
    "    # Remove any columns that hold no data, and print their tickers.\n",
    "    stock_data.dropna(how=\"all\", axis=1, inplace=True)\n",
    "    missing_tickers = [\n",
    "        ticker for ticker in ticker_list if ticker.upper() not in stock_data.columns\n",
    "    ]\n",
    "    print(f\"{len(missing_tickers)} tickers are missing: \\n {missing_tickers} \")\n",
    "    # If there are only some missing datapoints, forward fill.\n",
    "    stock_data.ffill(inplace=True)\n",
    "    return stock_data\n",
    "\n"
   ]
  },
  {
   "cell_type": "code",
   "execution_count": 20,
   "metadata": {
    "scrolled": false
   },
   "outputs": [
    {
     "name": "stdout",
     "output_type": "stream",
     "text": [
      "[*********************100%***********************]  7 of 7 completed\n",
      "0 tickers are missing: \n",
      " [] \n"
     ]
    },
    {
     "name": "stderr",
     "output_type": "stream",
     "text": [
      "<ipython-input-1-cd9ccb205444>:40: SettingWithCopyWarning: \n",
      "A value is trying to be set on a copy of a slice from a DataFrame\n",
      "\n",
      "See the caveats in the documentation: https://pandas.pydata.org/pandas-docs/stable/user_guide/indexing.html#returning-a-view-versus-a-copy\n",
      "  stock_data.dropna(how=\"all\", axis=1, inplace=True)\n"
     ]
    }
   ],
   "source": [
    "ticker_list = ['AAPL', 'AMZN', 'GOOGL', 'MSFT', 'INTC', 'HPQ', 'CRM']\n",
    "df = build_stock_dataset(ticker_list, start=START_DATE, end=END_DATE)\n",
    "\n",
    "\n",
    "# prepare forecasting data\n",
    "from datetime import timedelta\n",
    "from datetime import date\n",
    "from datetime import datetime\n",
    "\n",
    "#x = datetime.strptime('2019-07-01', \"%Y-%m-%d\")  + timedelta(days = 2)\n",
    "\n",
    "y_valid = df.loc['2018-07-01':'2019-07-01','INTC'].to_numpy()\n",
    "y_train = df.loc['2017-01-01':'2018-07-01','INTC'].to_numpy()\n",
    "y_test =  df.loc['2019-07-01':,'INTC'].to_numpy()\n",
    "X_valid = df.loc['2018-07-01':'2019-07-01',].to_numpy()\n",
    "X_train = df.loc['2017-01-01':'2018-07-01',].to_numpy()\n",
    "X_test = df.loc['2019-07-01':,].to_numpy()\n"
   ]
  },
  {
   "cell_type": "code",
   "execution_count": null,
   "metadata": {},
   "outputs": [],
   "source": []
  },
  {
   "cell_type": "markdown",
   "metadata": {},
   "source": [
    "1. Model a situation that you sitting on July 1st 2019 and you are trying to model short-term investments into Intel. \n",
    "You have training data from Jan. 1 2017 to July 1st 2019, and you will start trading based on your model on \n",
    "July 2nd, 2019 until the end of the year. You use data on the 7 stocks prodived trying to predict the price of Intel\n",
    "after holding it for 5 days. In your model you use data on the past 20 days of trading. \n",
    "\n",
    "You decide to use period Jan. 1 2017 to July 1st, 2018 as training period and data from July 1st 2018 to July 1st 2019 as validation period for you model. \n",
    "\n",
    "Create 10000 training and validation series that are 20 + 3 days long predicting the price of Intel. Report you training and validation accuracy from running LTSM normilized cell models with 3 hidden layers (300,75,25) neurons for 20 epochs. Use optimizer \"nadam\".  Interpret you results!\n",
    "\n",
    "\n",
    "\n",
    "\n",
    "\n"
   ]
  },
  {
   "cell_type": "code",
   "execution_count": 1,
   "metadata": {},
   "outputs": [],
   "source": [
    "from tensorflow_addons.rnn.layer_norm_lstm_cell import LayerNormLSTMCell as LSTM_norm\n",
    "\n"
   ]
  },
  {
   "cell_type": "code",
   "execution_count": 2,
   "metadata": {},
   "outputs": [],
   "source": [
    "window = 20\n",
    "duration = 5\n",
    "# generate 10000 Batches\n"
   ]
  },
  {
   "cell_type": "code",
   "execution_count": 3,
   "metadata": {},
   "outputs": [
    {
     "name": "stdout",
     "output_type": "stream",
     "text": [
      "Requirement already satisfied: tensorflow_addons in /Users/ir177/opt/anaconda3/lib/python3.8/site-packages (0.11.2)\r\n",
      "Requirement already satisfied: typeguard>=2.7 in /Users/ir177/opt/anaconda3/lib/python3.8/site-packages (from tensorflow_addons) (2.9.1)\r\n"
     ]
    }
   ],
   "source": [
    "# Install additional stuff\n",
    "!pip install tensorflow_addons\n",
    "from tensorflow_addons.rnn.layer_norm_lstm_cell import LayerNormLSTMCell as LSTM_norm\n",
    "from tensorflow_addons.rnn.layer_norm_simple_rnn_cell import LayerNormSimpleRNNCell as RNN_norm\n",
    "\n"
   ]
  },
  {
   "cell_type": "code",
   "execution_count": 156,
   "metadata": {},
   "outputs": [],
   "source": []
  },
  {
   "cell_type": "markdown",
   "metadata": {},
   "source": [
    "2. Predict price for each trading day for testing, training and validation. You can drop first 25 days of the period\n",
    "because there will not be prediction for them. Plot predictions and prices in 3 charts."
   ]
  },
  {
   "cell_type": "code",
   "execution_count": 393,
   "metadata": {},
   "outputs": [],
   "source": [
    "# We use last 100 days from the validation period to attach to testing period for prediction\n",
    "# Draw 10000 batches from the data and average prediction for days drawn multiple times. \n"
   ]
  },
  {
   "cell_type": "code",
   "execution_count": 4,
   "metadata": {},
   "outputs": [],
   "source": [
    "# Get a single prediction for each day of the period\n"
   ]
  },
  {
   "cell_type": "code",
   "execution_count": 424,
   "metadata": {},
   "outputs": [],
   "source": [
    "# get predictions\n"
   ]
  },
  {
   "cell_type": "code",
   "execution_count": null,
   "metadata": {},
   "outputs": [],
   "source": []
  },
  {
   "cell_type": "code",
   "execution_count": null,
   "metadata": {},
   "outputs": [],
   "source": []
  },
  {
   "cell_type": "code",
   "execution_count": null,
   "metadata": {},
   "outputs": [],
   "source": []
  },
  {
   "cell_type": "code",
   "execution_count": null,
   "metadata": {},
   "outputs": [],
   "source": []
  },
  {
   "cell_type": "code",
   "execution_count": null,
   "metadata": {
    "scrolled": true
   },
   "outputs": [],
   "source": []
  },
  {
   "cell_type": "markdown",
   "metadata": {},
   "source": [
    "Answer: "
   ]
  },
  {
   "cell_type": "markdown",
   "metadata": {},
   "source": [
    "3. Now it's trading time. First you need to predict expected profits for all days in the trading period. \n",
    "\n",
    "Profit = (sale price - purchase price)/ purchase price. \n",
    "\n",
    "Predict expected profits in the testing period. Pick 3 days with the highest expected profits and calculate expected and real profits for these days."
   ]
  },
  {
   "cell_type": "code",
   "execution_count": null,
   "metadata": {},
   "outputs": [],
   "source": []
  },
  {
   "cell_type": "code",
   "execution_count": 223,
   "metadata": {},
   "outputs": [],
   "source": [
    "# predict price for each trading day for testing, training and validation. You can drop first 25 days of the period\n",
    "#because there will not be prediction for them. Plot predictions and prices in 3 charts."
   ]
  },
  {
   "cell_type": "code",
   "execution_count": null,
   "metadata": {},
   "outputs": [],
   "source": []
  },
  {
   "cell_type": "code",
   "execution_count": null,
   "metadata": {},
   "outputs": [],
   "source": []
  },
  {
   "cell_type": "code",
   "execution_count": null,
   "metadata": {},
   "outputs": [],
   "source": []
  },
  {
   "cell_type": "markdown",
   "metadata": {},
   "source": [
    "4. Report average expected and real profit of holding a stock over 5 days for all days where we predicted the profit."
   ]
  },
  {
   "cell_type": "code",
   "execution_count": null,
   "metadata": {},
   "outputs": [],
   "source": []
  },
  {
   "cell_type": "code",
   "execution_count": null,
   "metadata": {
    "scrolled": true
   },
   "outputs": [],
   "source": []
  },
  {
   "cell_type": "code",
   "execution_count": null,
   "metadata": {},
   "outputs": [],
   "source": []
  },
  {
   "cell_type": "code",
   "execution_count": null,
   "metadata": {
    "scrolled": true
   },
   "outputs": [],
   "source": []
  },
  {
   "cell_type": "code",
   "execution_count": null,
   "metadata": {},
   "outputs": [],
   "source": []
  }
 ],
 "metadata": {
  "kernelspec": {
   "display_name": "Python 3",
   "language": "python",
   "name": "python3"
  },
  "language_info": {
   "codemirror_mode": {
    "name": "ipython",
    "version": 3
   },
   "file_extension": ".py",
   "mimetype": "text/x-python",
   "name": "python",
   "nbconvert_exporter": "python",
   "pygments_lexer": "ipython3",
   "version": "3.8.3"
  }
 },
 "nbformat": 4,
 "nbformat_minor": 4
}
