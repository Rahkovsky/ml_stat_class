{
 "cells": [
  {
   "cell_type": "markdown",
   "metadata": {
    "id": "OFnHYrMiguQO"
   },
   "source": [
    "**Recurrent Neural Networks**"
   ]
  },
  {
   "cell_type": "markdown",
   "metadata": {
    "id": "2lLKDYF5guQP"
   },
   "source": [
    "When you are dealing with time-series or spatial/neighbor dependencies, Recurrent Neural Networks is a good choice. RNNs are used in predicting the future, natural language processing, sentiment analysis, autonomous cars, etc. RNNs are very good predicting the next step (next note in a melody, next word in a sentence, next price of a stock, where the car should drive next).\n",
    "\n",
    "RNN deal with data that can have arbitrary length, such a document, historic prices, etc. Two main difficulties of RNN that we will explore are the unstable gradients and limited short-term memory. \n",
    "\n",
    "Regular NN can be also applied to the series data and very powereful models can be constructed by combination of CNN and RNN. "
   ]
  },
  {
   "cell_type": "markdown",
   "metadata": {
    "id": "k5rfsujsguQQ"
   },
   "source": [
    "# Recurrent Neurons\n",
    "\n",
    "Up to now we have mostly looked at feedforward neural networks, where the activations flow only in one direction, from the input layer to the output layer. \n",
    "\n",
    "A recurrent neural network adds connections pointing backward. Singe neuron RNN: "
   ]
  },
  {
   "cell_type": "markdown",
   "metadata": {
    "id": "dqS6BWDdguQS"
   },
   "source": [
    "![Neuron inner working](images/image_14_1.png)"
   ]
  },
  {
   "cell_type": "markdown",
   "metadata": {
    "id": "0Hj9gg2vguQS"
   },
   "source": [
    "At each time step $t$ (frame) recurrent neuron receives the inputs $x(t)$ as well as its own output from the previous time step, $y_{(t–1)}$. The image shows the network unrolling through time."
   ]
  },
  {
   "cell_type": "markdown",
   "metadata": {
    "id": "GyZ6usLEguQT"
   },
   "source": [
    "Below is the RNN with multiple neurons. "
   ]
  },
  {
   "cell_type": "markdown",
   "metadata": {
    "id": "dIw_qN9-guQU"
   },
   "source": [
    "![Neuron inner working](images/image_14_2.png)"
   ]
  },
  {
   "cell_type": "markdown",
   "metadata": {
    "id": "G66osnujguQW"
   },
   "source": [
    "Each recurrent neuron weight $W_x$ for inputs x(t) and the weight $W_y$ for the outputs of the previous time step, $y_{(t–1)}$.  Below is the output of a single neuron (b is the bias term and $\\phi(\\cdot)$ is the activation function, e.g., ReLU1):\n",
    "$$y_{(t)} = \\phi(x_{(t)}^T \\cdot W_x + y_{(t-1)}^T \\cdot W_y + b)$$\n",
    "For the whole layer of neurons we can use vectorized form:\n",
    "$$Y_{(t)} = \\phi(X_{(t)} \\cdot W_x + Y_{(t-1)} \\cdot W_y + b) = \\phi([X_{(t)} Y_{(t-1)}] \\cdot W + b)$$\n",
    "with $W = [W_x , W_y]$\n",
    "\n",
    "* $Y_{(t)}$ is a $m \\times n_{neurons}$ matrix with layer’s outputs at step $t$ for each instance in the mini-batch.$m$ is the number of instances in the mini-batch, and $n_{neurons}$ is the number of neurons.\n",
    "* $X_{(t)}$ is an $m \\times n_{inputs}$ matrix containing the inputs for all instances ($n_{inputs}$ is the number of input features).\n",
    "* $W_x$ is an $n_{inputs} \\times n_{neurons}$ matrix with connection weights for the inputs of the current time step.\n",
    "* $W_y$ is an $n_{neurons} \\times n_{neurons}$ matrix with connection weights for the outputs of the previous time step.\n",
    "* $W$ is the concatenated matrix of $W_x$ and $W_y$ with the shape $(n_{inputs} + n_{neurons}) \\times n_{neurons}$. \n",
    "* $b$ is a vector size $n_{neurons}$ with each neuron’s bias term."
   ]
  },
  {
   "cell_type": "markdown",
   "metadata": {
    "id": "daL30si4guQX"
   },
   "source": [
    "$Y_{(t)}$ is a function of $X_{((t)}$ and $Y_{((t–1)}$, which is a function of $X_{((t–1)}$ and $Y_{((t–2)}$,  and so on.\n",
    "\n",
    "This makes $Y_{((t)}$ a function of all the inputs since time $t = 0$ (that is, $X_{((0)}$, $X_{((1)}$, …, $X_{((t))}$. \n",
    "\n",
    "At the first time step, $t = 0$, there are no previous outputs, so they are typically assumed to be all zeros."
   ]
  },
  {
   "cell_type": "markdown",
   "metadata": {
    "id": "mPBC7EC8guQY"
   },
   "source": [
    "# Memory cells\n",
    "\n",
    "The output of a recurrent neuron at time step $t$ forms a memory from a function of all the inputs from previous time steps.\n",
    "Network preserves some, **but not all**, infromation from previous steps (memory cells).\n",
    "$$h_{(t)} = f(h_{(t-1)}, x_{(t)})$$"
   ]
  },
  {
   "cell_type": "markdown",
   "metadata": {
    "id": "C-dOLfR-guQZ"
   },
   "source": [
    "italicized text![Neuron inner working](images/image_14_3.png)"
   ]
  },
  {
   "cell_type": "markdown",
   "metadata": {
    "id": "TKdiJaPuguQZ"
   },
   "source": [
    "# Input and Output Sequences\n",
    "\n",
    "* An RNN can simultaneously take a sequence of inputs and produce a sequence of outputs (top left). This is useful in predicting times series. \n",
    "\n",
    "* RNN can be fed a sequence of inputs, and ignore all outputs except for the last one (top-right). This is useful when updating a score, for example a sentiment score (from –1 [hate] to +1 [love]).\n",
    "\n",
    "* RNN can work with  a single input at the first time step and zeros for all other time steps (bottom-left). This is a vector-to-sequence network. Input could be an image, and the output could be a caption for that image.\n",
    "\n",
    "* Sequence-to-vector network (encoder), followed by a vector-to-sequence network, called a decoder (bottom-right).  For example, this can be used for translating a sentence from one language to another. We would translate words in another language, You would feed the network a sentence in one language, the encoder would convert this sentence into a single vector representation, and then the decoder would decode this vector into a sentence in another language.\n",
    "\n",
    "This two-step model, called an Encoder–Decoder, works much better than trying to translate on the fly with a single sequence-to-sequence RNN, since the last words of a sentence can affect the first words of the translation, so you need to wait until you have heard the whole sentence before translating it.\n"
   ]
  },
  {
   "cell_type": "markdown",
   "metadata": {
    "id": "vdzM4xC7guQa"
   },
   "source": [
    "![Neuron inner working](images/image_14_4.png)"
   ]
  },
  {
   "cell_type": "markdown",
   "metadata": {
    "id": "v0eh_IY9NVOz"
   },
   "source": [
    "#Training RNNs\n",
    "\n",
    "RNNs are unrolled over time and then coefficients are estimated through back-propagation through time. \n",
    "\n",
    "1. forward pass through the unrolled network. Then the output sequence is evaluated using a cost function $C(Y_{(0)},Y_{(1)},...,Y_{(T)})$. A cost function may ignore some outputs, as shown in the next figure where all outputs are ignored except for the very last one. \n",
    "\n",
    "2. the gradients of the cost function are then propagated backward through the unrolled network . \n",
    "\n",
    "3. the model parameters are updated\n",
    "using the gradients computed during BPTT for all outputs used in the cost function (last 3 steps in the figure). As BPTT is used at each step, all coefficients are updated. \n"
   ]
  },
  {
   "cell_type": "markdown",
   "metadata": {
    "id": "b3UK85sYguQb"
   },
   "source": [
    "# Setup"
   ]
  },
  {
   "cell_type": "markdown",
   "metadata": {
    "id": "SVeOWjljguQb"
   },
   "source": [
    "First, let's make sure this notebook works well in both python 2 and 3, import a few common modules, ensure MatplotLib plots figures inline and prepare a function to save the figures:"
   ]
  },
  {
   "cell_type": "code",
   "execution_count": 163,
   "metadata": {
    "colab": {
     "base_uri": "https://localhost:8080/",
     "height": 51
    },
    "id": "Bj3Qkt1sguQc",
    "outputId": "ebb73c49-42e8-4b57-e19a-f47a3e7aab0b"
   },
   "outputs": [
    {
     "name": "stdout",
     "output_type": "stream",
     "text": [
      "No GPU was detected. LSTMs and CNNs can be very slow without a GPU.\n"
     ]
    }
   ],
   "source": [
    "# Python ≥3.5 is required\n",
    "import sys\n",
    "assert sys.version_info >= (3, 5)\n",
    "\n",
    "# Scikit-Learn ≥0.20 is required\n",
    "import sklearn\n",
    "assert sklearn.__version__ >= \"0.20\"\n",
    "\n",
    "try:\n",
    "    # %tensorflow_version only exists in Colab.\n",
    "    %tensorflow_version 2.x\n",
    "    IS_COLAB = True\n",
    "except Exception:\n",
    "    IS_COLAB = False\n",
    "\n",
    "# TensorFlow ≥2.0 is required\n",
    "import tensorflow as tf\n",
    "from tensorflow import keras\n",
    "assert tf.__version__ >= \"2.0\"\n",
    "\n",
    "if not tf.config.list_physical_devices('GPU'):\n",
    "    print(\"No GPU was detected. LSTMs and CNNs can be very slow without a GPU.\")\n",
    "    if IS_COLAB:\n",
    "        print(\"Go to Runtime > Change runtime and select a GPU hardware accelerator.\")\n",
    "\n",
    "# Common imports\n",
    "import numpy as np\n",
    "import os\n",
    "from pathlib import Path\n",
    "\n",
    "# to make this notebook's output stable across runs\n",
    "np.random.seed(42)\n",
    "tf.random.set_seed(42)\n",
    "\n",
    "# To plot pretty figures\n",
    "%matplotlib inline\n",
    "import matplotlib as mpl\n",
    "import matplotlib.pyplot as plt\n",
    "mpl.rc('axes', labelsize=14)\n",
    "mpl.rc('xtick', labelsize=12)\n",
    "mpl.rc('ytick', labelsize=12)\n",
    "\n",
    "# Where to save the figures\n",
    "PROJECT_ROOT_DIR = \".\"\n",
    "CHAPTER_ID = \"rnn\"\n",
    "IMAGES_PATH = os.path.join(PROJECT_ROOT_DIR, \"images\", CHAPTER_ID)\n",
    "os.makedirs(IMAGES_PATH, exist_ok=True)\n",
    "\n",
    "def save_fig(fig_id, tight_layout=True, fig_extension=\"png\", resolution=300):\n",
    "    path = os.path.join(IMAGES_PATH, fig_id + \".\" + fig_extension)\n",
    "    print(\"Saving figure\", fig_id)\n",
    "    if tight_layout:\n",
    "        plt.tight_layout()\n",
    "    plt.savefig(path, format=fig_extension, dpi=resolution)"
   ]
  },
  {
   "cell_type": "markdown",
   "metadata": {
    "id": "q-QNh8a0guQf"
   },
   "source": [
    "Then of course we will need TensorFlow:"
   ]
  },
  {
   "cell_type": "code",
   "execution_count": 164,
   "metadata": {
    "id": "2z-baNpMguQf"
   },
   "outputs": [],
   "source": [
    "import tensorflow as tf"
   ]
  },
  {
   "cell_type": "markdown",
   "metadata": {
    "id": "-CsIqriDguQi"
   },
   "source": [
    "# Forecasting Time Series\n",
    "\n",
    "Time series can be univariate  (stock price), or multi-variate (multiple stocks). Two most common tasks are predictiong and imputation (filling the missing parts). Next we try simple forecasting of univariate articfical time-series.\n",
    "\n"
   ]
  },
  {
   "cell_type": "markdown",
   "metadata": {
    "id": "4grNnuHJhvNY"
   },
   "source": [
    "### Generate the Dataset"
   ]
  },
  {
   "cell_type": "code",
   "execution_count": 165,
   "metadata": {
    "id": "ThBVb2TjhvNZ"
   },
   "outputs": [],
   "source": [
    "# Generate a random sime series. Batch_size is the number of series generated. Each series has the lenghth of n_steps. One value per step -- \n",
    "#series are univariate. The function returns a NumPy array of shape [batch\n",
    "#size, time steps, 1], where each series is the sum of two sine waves of fixed amplitudes\n",
    "#but random frequencies and phases, plus a bit of noise\n",
    "def generate_time_series(batch_size, n_steps):\n",
    "    # Generarate series of random numbers [4x10000x1]. \n",
    "    freq1, freq2, offsets1, offsets2 = np.random.rand(4, batch_size, 1)\n",
    "    # Divide space between 0 and 1 by the number of steps\n",
    "    time = np.linspace(0, 1, n_steps)\n",
    "    # start wave 1\n",
    "    series = 0.5 * np.sin((time - offsets1) * (freq1 * 10 + 10))  #   wave 1\n",
    "    series += 0.2 * np.sin((time - offsets2) * (freq2 * 20 + 20)) # + wave 2\n",
    "    series += 0.1 * (np.random.rand(batch_size, n_steps) - 0.5)   # + noise\n",
    "    return series[..., np.newaxis].astype(np.float32)\n",
    "\n",
    "#When dealing with time series (and other types of sequences such\n",
    "#as sentences), the input features are generally represented as 3D\n",
    "#arrays of shape [batch size, time steps, dimensionality], where\n",
    "#dimensionality is 1 for univariate time series and more for multivariate\n",
    "#time series.    "
   ]
  },
  {
   "cell_type": "code",
   "execution_count": 166,
   "metadata": {
    "id": "3NIAB-HZhvNd"
   },
   "outputs": [],
   "source": [
    "np.random.seed(42)\n",
    "# 50 steps in each time-series\n",
    "n_steps = 50\n",
    "# generate 10000 series for training. Generate extra step for prediction\n",
    "series = generate_time_series(10000, n_steps + 1)\n",
    "# 7000 series for training, 2000 - validation, 1000 testing. \n",
    "X_train, y_train = series[:7000, :n_steps], series[:7000, -1]\n",
    "X_valid, y_valid = series[7000:9000, :n_steps], series[7000:9000, -1]\n",
    "X_test, y_test = series[9000:, :n_steps], series[9000:, -1]"
   ]
  },
  {
   "cell_type": "code",
   "execution_count": 167,
   "metadata": {
    "colab": {
     "base_uri": "https://localhost:8080/",
     "height": 34
    },
    "id": "n1IPG30mhvNg",
    "outputId": "7e9cefae-8995-4f46-a559-86a3fe4c88d8"
   },
   "outputs": [
    {
     "data": {
      "text/plain": [
       "((7000, 50, 1), (7000, 1))"
      ]
     },
     "execution_count": 167,
     "metadata": {},
     "output_type": "execute_result"
    }
   ],
   "source": [
    "X_train.shape, y_train.shape"
   ]
  },
  {
   "cell_type": "code",
   "execution_count": 168,
   "metadata": {
    "colab": {
     "base_uri": "https://localhost:8080/",
     "height": 314
    },
    "id": "lC5ErA0chvNi",
    "outputId": "7ac0e7b7-d434-4e72-9548-b42bc539c9fb"
   },
   "outputs": [
    {
     "name": "stdout",
     "output_type": "stream",
     "text": [
      "Saving figure time_series_plot\n"
     ]
    },
    {
     "data": {
      "image/png": "[encoded data removed]",
      "text/plain": [
       "<Figure size 864x288 with 3 Axes>"
      ]
     },
     "metadata": {
      "needs_background": "light"
     },
     "output_type": "display_data"
    }
   ],
   "source": [
    "def plot_series(series, y=None, y_pred=None, x_label=\"$t$\", y_label=\"$x(t)$\"):\n",
    "    plt.plot(series, \".-\")\n",
    "    if y is not None:\n",
    "        plt.plot(n_steps, y, \"bx\", markersize=10)\n",
    "    if y_pred is not None:\n",
    "        plt.plot(n_steps, y_pred, \"ro\")\n",
    "    plt.grid(True)\n",
    "    if x_label:\n",
    "        plt.xlabel(x_label, fontsize=16)\n",
    "    if y_label:\n",
    "        plt.ylabel(y_label, fontsize=16, rotation=0)\n",
    "    plt.hlines(0, 0, 100, linewidth=1)\n",
    "    plt.axis([0, n_steps + 1, -1, 1])\n",
    "\n",
    "fig, axes = plt.subplots(nrows=1, ncols=3, sharey=True, figsize=(12, 4))\n",
    "for col in range(3):\n",
    "    plt.sca(axes[col])\n",
    "    plot_series(X_valid[col, :, 0], y_valid[col, 0],\n",
    "                y_label=(\"$x(t)$\" if col==0 else None))\n",
    "save_fig(\"time_series_plot\")\n",
    "plt.show()"
   ]
  },
  {
   "cell_type": "markdown",
   "metadata": {
    "id": "Y1zvKs7_mm-O"
   },
   "source": [
    "The goal is to predict the last step."
   ]
  },
  {
   "cell_type": "markdown",
   "metadata": {
    "id": "oX4ALANPhvNl"
   },
   "source": [
    "### Computing Some Baselines"
   ]
  },
  {
   "cell_type": "markdown",
   "metadata": {
    "id": "nmabU-HuhvNl"
   },
   "source": [
    "Naive predictions (just predict the last observed value):"
   ]
  },
  {
   "cell_type": "code",
   "execution_count": 169,
   "metadata": {
    "colab": {
     "base_uri": "https://localhost:8080/",
     "height": 34
    },
    "id": "ZSmS2SaxhvNl",
    "outputId": "611bda27-1210-4ab2-9737-13f8c3687a5c"
   },
   "outputs": [
    {
     "data": {
      "text/plain": [
       "0.020211367"
      ]
     },
     "execution_count": 169,
     "metadata": {},
     "output_type": "execute_result"
    }
   ],
   "source": [
    "# We will assume that the output equal to step 50, the last step we observe.\n",
    "y_pred = X_valid[:, -1]\n",
    "np.mean(keras.losses.mean_squared_error(y_valid, y_pred))"
   ]
  },
  {
   "cell_type": "code",
   "execution_count": 170,
   "metadata": {
    "colab": {
     "base_uri": "https://localhost:8080/",
     "height": 293
    },
    "id": "_X23fVsUhvNn",
    "outputId": "ad6a0a11-1583-45ce-9e14-d67d0c58f372"
   },
   "outputs": [
    {
     "data": {
      "image/png": "[encoded data removed]",
      "text/plain": [
       "<Figure size 432x288 with 1 Axes>"
      ]
     },
     "metadata": {
      "needs_background": "light"
     },
     "output_type": "display_data"
    }
   ],
   "source": [
    "plot_series(X_valid[0, :, 0], y_valid[0, 0], y_pred[0, 0])\n",
    "plt.show()\n",
    "# Not bad :) "
   ]
  },
  {
   "cell_type": "markdown",
   "metadata": {
    "id": "dx9eaAuZhvNp"
   },
   "source": [
    "Linear predictions:"
   ]
  },
  {
   "cell_type": "code",
   "execution_count": 171,
   "metadata": {
    "colab": {
     "base_uri": "https://localhost:8080/",
     "height": 697
    },
    "id": "RxpaRw2EhvNp",
    "outputId": "655098fd-32c1-4230-b175-1249b6feccde",
    "scrolled": true
   },
   "outputs": [
    {
     "name": "stdout",
     "output_type": "stream",
     "text": [
      "Epoch 1/20\n",
      "219/219 [==============================] - 0s 767us/step - loss: 0.1001 - val_loss: 0.0545\n",
      "Epoch 2/20\n",
      "219/219 [==============================] - 0s 487us/step - loss: 0.0379 - val_loss: 0.0266\n",
      "Epoch 3/20\n",
      "219/219 [==============================] - 0s 583us/step - loss: 0.0202 - val_loss: 0.0157\n",
      "Epoch 4/20\n",
      "219/219 [==============================] - 0s 538us/step - loss: 0.0131 - val_loss: 0.0116\n",
      "Epoch 5/20\n",
      "219/219 [==============================] - 0s 613us/step - loss: 0.0103 - val_loss: 0.0098\n",
      "Epoch 6/20\n",
      "219/219 [==============================] - 0s 573us/step - loss: 0.0089 - val_loss: 0.0087\n",
      "Epoch 7/20\n",
      "219/219 [==============================] - 0s 604us/step - loss: 0.0080 - val_loss: 0.0079\n",
      "Epoch 8/20\n",
      "219/219 [==============================] - 0s 635us/step - loss: 0.0073 - val_loss: 0.0071\n",
      "Epoch 9/20\n",
      "219/219 [==============================] - 0s 605us/step - loss: 0.0066 - val_loss: 0.0066\n",
      "Epoch 10/20\n",
      "219/219 [==============================] - 0s 557us/step - loss: 0.0061 - val_loss: 0.0062\n",
      "Epoch 11/20\n",
      "219/219 [==============================] - 0s 498us/step - loss: 0.0057 - val_loss: 0.0057\n",
      "Epoch 12/20\n",
      "219/219 [==============================] - 0s 549us/step - loss: 0.0054 - val_loss: 0.0055\n",
      "Epoch 13/20\n",
      "219/219 [==============================] - 0s 498us/step - loss: 0.0052 - val_loss: 0.0052\n",
      "Epoch 14/20\n",
      "219/219 [==============================] - 0s 506us/step - loss: 0.0049 - val_loss: 0.0049\n",
      "Epoch 15/20\n",
      "219/219 [==============================] - 0s 525us/step - loss: 0.0048 - val_loss: 0.0048\n",
      "Epoch 16/20\n",
      "219/219 [==============================] - 0s 533us/step - loss: 0.0046 - val_loss: 0.0048\n",
      "Epoch 17/20\n",
      "219/219 [==============================] - 0s 552us/step - loss: 0.0045 - val_loss: 0.0045\n",
      "Epoch 18/20\n",
      "219/219 [==============================] - 0s 557us/step - loss: 0.0044 - val_loss: 0.0044\n",
      "Epoch 19/20\n",
      "219/219 [==============================] - 0s 501us/step - loss: 0.0043 - val_loss: 0.0043\n",
      "Epoch 20/20\n",
      "219/219 [==============================] - 0s 497us/step - loss: 0.0042 - val_loss: 0.0042\n"
     ]
    }
   ],
   "source": [
    "# Neural network with no hidden layers is equivalent to linear regression. Though the coeffients are learnt rather than estimated from matrix multiplication.\n",
    "# This is not RNN network\n",
    "np.random.seed(42)\n",
    "tf.random.set_seed(42)\n",
    "\n",
    "model = keras.models.Sequential([\n",
    "    keras.layers.Flatten(input_shape=[50, 1]),\n",
    "    keras.layers.Dense(1)\n",
    "])\n",
    "\n",
    "model.compile(loss=\"mse\", optimizer=\"adam\")\n",
    "history = model.fit(X_train, y_train, epochs=20,\n",
    "                    validation_data=(X_valid, y_valid))"
   ]
  },
  {
   "cell_type": "code",
   "execution_count": 172,
   "metadata": {
    "colab": {
     "base_uri": "https://localhost:8080/",
     "height": 51
    },
    "id": "9K8zAoBMhvNr",
    "outputId": "c588db05-8960-412d-d31d-0d7bbf186c25"
   },
   "outputs": [
    {
     "name": "stdout",
     "output_type": "stream",
     "text": [
      "63/63 [==============================] - 0s 355us/step - loss: 0.0042\n"
     ]
    },
    {
     "data": {
      "text/plain": [
       "0.004168087150901556"
      ]
     },
     "execution_count": 172,
     "metadata": {},
     "output_type": "execute_result"
    }
   ],
   "source": [
    "model.evaluate(X_valid, y_valid)\n",
    "# 5 times better than a naive approach"
   ]
  },
  {
   "cell_type": "code",
   "execution_count": 173,
   "metadata": {
    "colab": {
     "base_uri": "https://localhost:8080/",
     "height": 291
    },
    "id": "pE5DpWz6hvNt",
    "outputId": "53641728-75a9-4b52-d5c7-380aee58dbc5",
    "scrolled": false
   },
   "outputs": [
    {
     "data": {
      "image/png": "[encoded data removed]",
      "text/plain": [
       "<Figure size 432x288 with 1 Axes>"
      ]
     },
     "metadata": {
      "needs_background": "light"
     },
     "output_type": "display_data"
    }
   ],
   "source": [
    "def plot_learning_curves(loss, val_loss):\n",
    "    plt.plot(np.arange(len(loss)) + 0.5, loss, \"b.-\", label=\"Training loss\")\n",
    "    plt.plot(np.arange(len(val_loss)) + 1, val_loss, \"r.-\", label=\"Validation loss\")\n",
    "    plt.gca().xaxis.set_major_locator(mpl.ticker.MaxNLocator(integer=True))\n",
    "    plt.axis([1, 20, 0, 0.05])\n",
    "    plt.legend(fontsize=14)\n",
    "    plt.xlabel(\"Epochs\")\n",
    "    plt.ylabel(\"Loss\")\n",
    "    plt.grid(True)\n",
    "\n",
    "plot_learning_curves(history.history[\"loss\"], history.history[\"val_loss\"])\n",
    "plt.show()"
   ]
  },
  {
   "cell_type": "code",
   "execution_count": 174,
   "metadata": {
    "colab": {
     "base_uri": "https://localhost:8080/",
     "height": 293
    },
    "id": "cOzC7XK3hvNu",
    "outputId": "58c91d0d-d260-4476-d0d1-225599ed19f6",
    "scrolled": true
   },
   "outputs": [
    {
     "data": {
      "image/png": "[encoded data removed]",
      "text/plain": [
       "<Figure size 432x288 with 1 Axes>"
      ]
     },
     "metadata": {
      "needs_background": "light"
     },
     "output_type": "display_data"
    }
   ],
   "source": [
    "y_pred = model.predict(X_valid)\n",
    "plot_series(X_valid[0, :, 0], y_valid[0, 0], y_pred[0, 0])\n",
    "plt.show()"
   ]
  },
  {
   "cell_type": "markdown",
   "metadata": {
    "id": "4sUPeYqqhvNw"
   },
   "source": [
    "### Using a Simple RNN"
   ]
  },
  {
   "cell_type": "markdown",
   "metadata": {
    "id": "MXDfAFyD8R-6"
   },
   "source": [
    "We build a simple RNN with a single layer, with a single\n",
    "neuron. The model will read the length of the sequence and change None parameter to it. \n",
    "\n",
    "By default, the SimpleRNN layer uses the hyperbolic tangent activation function.\n",
    "It works exactly as we saw earlier: the initial state $h_{(init)}$ is set to 0, and it is passed to a single recurrent neuron, along with the value of the first time step, $x_{(0)}$.\n",
    "\n",
    "\n",
    "The neuron computes a weighted sum of these values and applies the hyperbolic tangent activation function to the result producing the first output $y_{0}$. In\n",
    "In a simple RNN, this output is also the new state $h_{(0)}$.\n",
    "\n",
    "This new state is passed to the same recurrent neuron\n",
    "along with the next input value, $x_{(1)}$, and the process is repeated until the last time step. "
   ]
  },
  {
   "cell_type": "code",
   "execution_count": 175,
   "metadata": {
    "colab": {
     "base_uri": "https://localhost:8080/",
     "height": 697
    },
    "id": "QOMNrhLthvNw",
    "outputId": "043de75a-18e3-40d4-9ac5-44dc6b94ef73"
   },
   "outputs": [
    {
     "name": "stdout",
     "output_type": "stream",
     "text": [
      "Epoch 1/20\n",
      "219/219 [==============================] - 1s 5ms/step - loss: 0.0967 - val_loss: 0.0489\n",
      "Epoch 2/20\n",
      "219/219 [==============================] - 1s 4ms/step - loss: 0.0369 - val_loss: 0.0296\n",
      "Epoch 3/20\n",
      "219/219 [==============================] - 1s 5ms/step - loss: 0.0253 - val_loss: 0.0218\n",
      "Epoch 4/20\n",
      "219/219 [==============================] - 1s 5ms/step - loss: 0.0198 - val_loss: 0.0177\n",
      "Epoch 5/20\n",
      "219/219 [==============================] - 1s 4ms/step - loss: 0.0166 - val_loss: 0.0151\n",
      "Epoch 6/20\n",
      "219/219 [==============================] - 1s 5ms/step - loss: 0.0146 - val_loss: 0.0134\n",
      "Epoch 7/20\n",
      "219/219 [==============================] - 1s 4ms/step - loss: 0.0132 - val_loss: 0.0123\n",
      "Epoch 8/20\n",
      "219/219 [==============================] - 1s 5ms/step - loss: 0.0124 - val_loss: 0.0116\n",
      "Epoch 9/20\n",
      "219/219 [==============================] - 1s 4ms/step - loss: 0.0118 - val_loss: 0.0112\n",
      "Epoch 10/20\n",
      "219/219 [==============================] - 1s 5ms/step - loss: 0.0116 - val_loss: 0.0110\n",
      "Epoch 11/20\n",
      "219/219 [==============================] - 1s 5ms/step - loss: 0.0114 - val_loss: 0.0109\n",
      "Epoch 12/20\n",
      "219/219 [==============================] - 1s 5ms/step - loss: 0.0114 - val_loss: 0.0109\n",
      "Epoch 13/20\n",
      "219/219 [==============================] - 1s 5ms/step - loss: 0.0114 - val_loss: 0.0109\n",
      "Epoch 14/20\n",
      "219/219 [==============================] - 1s 4ms/step - loss: 0.0114 - val_loss: 0.0109\n",
      "Epoch 15/20\n",
      "219/219 [==============================] - 1s 5ms/step - loss: 0.0114 - val_loss: 0.0109\n",
      "Epoch 16/20\n",
      "219/219 [==============================] - 1s 5ms/step - loss: 0.0114 - val_loss: 0.0109\n",
      "Epoch 17/20\n",
      "219/219 [==============================] - 1s 4ms/step - loss: 0.0114 - val_loss: 0.0109\n",
      "Epoch 18/20\n",
      "219/219 [==============================] - 1s 5ms/step - loss: 0.0114 - val_loss: 0.0109\n",
      "Epoch 19/20\n",
      "219/219 [==============================] - 1s 5ms/step - loss: 0.0114 - val_loss: 0.0109\n",
      "Epoch 20/20\n",
      "219/219 [==============================] - 1s 5ms/step - loss: 0.0114 - val_loss: 0.0109\n"
     ]
    }
   ],
   "source": [
    "np.random.seed(42)\n",
    "tf.random.set_seed(42)\n",
    "# Single-neuron RNN\n",
    "model = keras.models.Sequential([\n",
    "    keras.layers.SimpleRNN(1, input_shape=[None, 1])\n",
    "])\n",
    "\n",
    "optimizer = keras.optimizers.Adam(lr=0.005)\n",
    "model.compile(loss=\"mse\", optimizer=optimizer)\n",
    "history = model.fit(X_train, y_train, epochs=20,\n",
    "                    validation_data=(X_valid, y_valid))"
   ]
  },
  {
   "cell_type": "code",
   "execution_count": 176,
   "metadata": {
    "colab": {
     "base_uri": "https://localhost:8080/",
     "height": 51
    },
    "id": "in8zzUozhvNx",
    "outputId": "b509e6e6-31dc-4519-8d93-1b337e0073d0"
   },
   "outputs": [
    {
     "name": "stdout",
     "output_type": "stream",
     "text": [
      "63/63 [==============================] - 0s 1ms/step - loss: 0.0109\n"
     ]
    },
    {
     "data": {
      "text/plain": [
       "0.010881561785936356"
      ]
     },
     "execution_count": 176,
     "metadata": {},
     "output_type": "execute_result"
    }
   ],
   "source": [
    "model.evaluate(X_valid, y_valid)\n",
    "# OK, but worse than the linear model.\n",
    "# In the linear regression model there is one parameters + bias per step -- 51 parameters\n",
    "# In each neuron there is just on parameter per input, per hidden dimensions and bias, this has\n",
    "#just 3 parameters per neuron.\n",
    "\n",
    "# RNNs can learn seasonality, so you don't have to remove it. "
   ]
  },
  {
   "cell_type": "code",
   "execution_count": 177,
   "metadata": {
    "colab": {
     "base_uri": "https://localhost:8080/",
     "height": 291
    },
    "id": "d4xGjVwChvNz",
    "outputId": "4704814a-59e0-435b-9ec3-4a600ece6fb1"
   },
   "outputs": [
    {
     "data": {
      "image/png": "[encoded data removed]",
      "text/plain": [
       "<Figure size 432x288 with 1 Axes>"
      ]
     },
     "metadata": {
      "needs_background": "light"
     },
     "output_type": "display_data"
    }
   ],
   "source": [
    "plot_learning_curves(history.history[\"loss\"], history.history[\"val_loss\"])\n",
    "plt.show()"
   ]
  },
  {
   "cell_type": "code",
   "execution_count": 178,
   "metadata": {
    "colab": {
     "base_uri": "https://localhost:8080/",
     "height": 293
    },
    "id": "KasMN_mihvN0",
    "outputId": "1a04607d-7292-45cb-9ae8-9f68335a8980"
   },
   "outputs": [
    {
     "data": {
      "image/png": "[encoded data removed]",
      "text/plain": [
       "<Figure size 432x288 with 1 Axes>"
      ]
     },
     "metadata": {
      "needs_background": "light"
     },
     "output_type": "display_data"
    }
   ],
   "source": [
    "y_pred = model.predict(X_valid)\n",
    "plot_series(X_valid[0, :, 0], y_valid[0, 0], y_pred[0, 0])\n",
    "plt.show()"
   ]
  },
  {
   "cell_type": "markdown",
   "metadata": {
    "id": "WhoxGJqlhvN1"
   },
   "source": [
    "## Deep RNNs\n",
    "\n",
    "![Neuron inner working](images/Figure_15_7.png)\n",
    "Instead of recurring neurons we will have a layer or the whole network of recurrent layers."
   ]
  },
  {
   "cell_type": "code",
   "execution_count": 179,
   "metadata": {
    "colab": {
     "base_uri": "https://localhost:8080/",
     "height": 595
    },
    "id": "RAH2ILEOhvN2",
    "outputId": "0894121e-7dfb-466c-fb15-1a8e4d510c42",
    "scrolled": true
   },
   "outputs": [
    {
     "name": "stdout",
     "output_type": "stream",
     "text": [
      "Epoch 1/20\n",
      "219/219 [==============================] - 4s 16ms/step - loss: 0.0492 - val_loss: 0.0090\n",
      "Epoch 2/20\n",
      "219/219 [==============================] - 3s 15ms/step - loss: 0.0070 - val_loss: 0.0065\n",
      "Epoch 3/20\n",
      "219/219 [==============================] - 3s 14ms/step - loss: 0.0053 - val_loss: 0.0045\n",
      "Epoch 4/20\n",
      "219/219 [==============================] - 3s 14ms/step - loss: 0.0045 - val_loss: 0.0040\n",
      "Epoch 5/20\n",
      "219/219 [==============================] - 3s 14ms/step - loss: 0.0042 - val_loss: 0.0040\n",
      "Epoch 6/20\n",
      "219/219 [==============================] - 3s 14ms/step - loss: 0.0038 - val_loss: 0.0036\n",
      "Epoch 7/20\n",
      "219/219 [==============================] - 3s 14ms/step - loss: 0.0038 - val_loss: 0.0040\n",
      "Epoch 8/20\n",
      "219/219 [==============================] - 3s 14ms/step - loss: 0.0037 - val_loss: 0.0033\n",
      "Epoch 9/20\n",
      "219/219 [==============================] - 3s 14ms/step - loss: 0.0036 - val_loss: 0.0032\n",
      "Epoch 10/20\n",
      "219/219 [==============================] - 3s 14ms/step - loss: 0.0035 - val_loss: 0.0031\n",
      "Epoch 11/20\n",
      "219/219 [==============================] - 3s 15ms/step - loss: 0.0034 - val_loss: 0.0030\n",
      "Epoch 12/20\n",
      "219/219 [==============================] - 3s 14ms/step - loss: 0.0033 - val_loss: 0.0031\n",
      "Epoch 13/20\n",
      "219/219 [==============================] - 3s 14ms/step - loss: 0.0034 - val_loss: 0.0031\n",
      "Epoch 14/20\n",
      "219/219 [==============================] - 3s 14ms/step - loss: 0.0033 - val_loss: 0.0032\n",
      "Epoch 15/20\n",
      "219/219 [==============================] - 3s 14ms/step - loss: 0.0034 - val_loss: 0.0033\n",
      "Epoch 16/20\n",
      "219/219 [==============================] - 3s 14ms/step - loss: 0.0035 - val_loss: 0.0030\n",
      "Epoch 17/20\n",
      "219/219 [==============================] - 3s 14ms/step - loss: 0.0033 - val_loss: 0.0029\n",
      "Epoch 18/20\n",
      "219/219 [==============================] - 3s 14ms/step - loss: 0.0033 - val_loss: 0.0030\n",
      "Epoch 19/20\n",
      "219/219 [==============================] - 3s 14ms/step - loss: 0.0032 - val_loss: 0.0029\n",
      "Epoch 20/20\n",
      "219/219 [==============================] - 3s 14ms/step - loss: 0.0032 - val_loss: 0.0029\n"
     ]
    }
   ],
   "source": [
    "np.random.seed(42)\n",
    "tf.random.set_seed(42)\n",
    "\n",
    "model = keras.models.Sequential([\n",
    "# convert input shape into a layer of 20 neurons\n",
    "    keras.layers.SimpleRNN(20, return_sequences=True, input_shape=[None, 1]),\n",
    "# return_sequences=True returns output data for all steps, not just the predictions.\n",
    "    keras.layers.SimpleRNN(20, return_sequences=True),\n",
    "    # Another layer of 20 neurons\n",
    "    keras.layers.SimpleRNN(1)\n",
    "    # This layer is not ideal because hidden layers are collapsed into one number going into RNN neuron. \n",
    "    #Furthermore the tanh actication function maybe not be optimal for value prediction tasks. \n",
    "    #So in the next model we will use Dense layer which will aggregate information from all 20 neurons in the\n",
    "    #hidden layer and by default has a faster ReLU activation function. \n",
    "])\n",
    "\n",
    "model.compile(loss=\"mse\", optimizer=\"adam\")  \n",
    "history = model.fit(X_train, y_train, epochs=20,\n",
    "                    validation_data=(X_valid, y_valid))"
   ]
  },
  {
   "cell_type": "code",
   "execution_count": 180,
   "metadata": {
    "id": "lwgCIaQLhvN3"
   },
   "outputs": [
    {
     "name": "stdout",
     "output_type": "stream",
     "text": [
      "63/63 [==============================] - 0s 4ms/step - loss: 0.0029\n"
     ]
    },
    {
     "data": {
      "text/plain": [
       "0.002910564187914133"
      ]
     },
     "execution_count": 180,
     "metadata": {},
     "output_type": "execute_result"
    }
   ],
   "source": [
    "model.evaluate(X_valid, y_valid)\n",
    "# previous best OLS MSE = 0.004168087150901556. So it's 30% better than OLS"
   ]
  },
  {
   "cell_type": "code",
   "execution_count": 181,
   "metadata": {
    "id": "a0zLYYVphvN5"
   },
   "outputs": [
    {
     "data": {
      "image/png": "[encoded data removed]",
      "text/plain": [
       "<Figure size 432x288 with 1 Axes>"
      ]
     },
     "metadata": {
      "needs_background": "light"
     },
     "output_type": "display_data"
    }
   ],
   "source": [
    "plot_learning_curves(history.history[\"loss\"], history.history[\"val_loss\"])\n",
    "plt.show()"
   ]
  },
  {
   "cell_type": "code",
   "execution_count": 182,
   "metadata": {
    "id": "s09WFRIXhvN6"
   },
   "outputs": [
    {
     "data": {
      "image/png": "[encoded data removed]",
      "text/plain": [
       "<Figure size 432x288 with 1 Axes>"
      ]
     },
     "metadata": {
      "needs_background": "light"
     },
     "output_type": "display_data"
    }
   ],
   "source": [
    "y_pred = model.predict(X_valid)\n",
    "plot_series(X_valid[0, :, 0], y_valid[0, 0], y_pred[0, 0])\n",
    "plt.show()"
   ]
  },
  {
   "cell_type": "markdown",
   "metadata": {
    "id": "4NENhUl5hvN8"
   },
   "source": [
    "Make the second `SimpleRNN` layer return only the last output:"
   ]
  },
  {
   "cell_type": "code",
   "execution_count": 183,
   "metadata": {
    "id": "byja7RsLhvN8",
    "scrolled": true
   },
   "outputs": [
    {
     "name": "stdout",
     "output_type": "stream",
     "text": [
      "Epoch 1/20\n",
      "219/219 [==============================] - 3s 12ms/step - loss: 0.0232 - val_loss: 0.0052\n",
      "Epoch 2/20\n",
      "219/219 [==============================] - 2s 11ms/step - loss: 0.0043 - val_loss: 0.0036\n",
      "Epoch 3/20\n",
      "219/219 [==============================] - 2s 11ms/step - loss: 0.0035 - val_loss: 0.0031\n",
      "Epoch 4/20\n",
      "219/219 [==============================] - 2s 11ms/step - loss: 0.0033 - val_loss: 0.0033\n",
      "Epoch 5/20\n",
      "219/219 [==============================] - 2s 11ms/step - loss: 0.0033 - val_loss: 0.0034\n",
      "Epoch 6/20\n",
      "219/219 [==============================] - 2s 11ms/step - loss: 0.0031 - val_loss: 0.0029\n",
      "Epoch 7/20\n",
      "219/219 [==============================] - 2s 11ms/step - loss: 0.0031 - val_loss: 0.0034\n",
      "Epoch 8/20\n",
      "219/219 [==============================] - 2s 10ms/step - loss: 0.0032 - val_loss: 0.0028\n",
      "Epoch 9/20\n",
      "219/219 [==============================] - 2s 10ms/step - loss: 0.0031 - val_loss: 0.0028\n",
      "Epoch 10/20\n",
      "219/219 [==============================] - 2s 10ms/step - loss: 0.0030 - val_loss: 0.0029\n",
      "Epoch 11/20\n",
      "219/219 [==============================] - 2s 10ms/step - loss: 0.0029 - val_loss: 0.0027\n",
      "Epoch 12/20\n",
      "219/219 [==============================] - 2s 10ms/step - loss: 0.0030 - val_loss: 0.0031\n",
      "Epoch 13/20\n",
      "219/219 [==============================] - 2s 10ms/step - loss: 0.0030 - val_loss: 0.0031\n",
      "Epoch 14/20\n",
      "219/219 [==============================] - 2s 10ms/step - loss: 0.0030 - val_loss: 0.0030\n",
      "Epoch 15/20\n",
      "219/219 [==============================] - 2s 11ms/step - loss: 0.0030 - val_loss: 0.0030\n",
      "Epoch 16/20\n",
      "219/219 [==============================] - 2s 10ms/step - loss: 0.0030 - val_loss: 0.0027\n",
      "Epoch 17/20\n",
      "219/219 [==============================] - 2s 10ms/step - loss: 0.0029 - val_loss: 0.0028\n",
      "Epoch 18/20\n",
      "219/219 [==============================] - 2s 10ms/step - loss: 0.0030 - val_loss: 0.0027\n",
      "Epoch 19/20\n",
      "219/219 [==============================] - 2s 10ms/step - loss: 0.0029 - val_loss: 0.0028\n",
      "Epoch 20/20\n",
      "219/219 [==============================] - 2s 10ms/step - loss: 0.0029 - val_loss: 0.0026\n"
     ]
    }
   ],
   "source": [
    "np.random.seed(42)\n",
    "tf.random.set_seed(42)\n",
    "\n",
    "model = keras.models.Sequential([\n",
    "    keras.layers.SimpleRNN(20, return_sequences=True, input_shape=[None, 1]),\n",
    "    keras.layers.SimpleRNN(20),\n",
    "    keras.layers.Dense(1)\n",
    "])\n",
    "\n",
    "model.compile(loss=\"mse\", optimizer=\"adam\")\n",
    "history = model.fit(X_train, y_train, epochs=20,\n",
    "                    validation_data=(X_valid, y_valid))"
   ]
  },
  {
   "cell_type": "code",
   "execution_count": 184,
   "metadata": {
    "id": "nk0EtbuAhvN9"
   },
   "outputs": [
    {
     "name": "stdout",
     "output_type": "stream",
     "text": [
      "63/63 [==============================] - 0s 3ms/step - loss: 0.0026\n"
     ]
    },
    {
     "data": {
      "text/plain": [
       "0.002623623702675104"
      ]
     },
     "execution_count": 184,
     "metadata": {},
     "output_type": "execute_result"
    }
   ],
   "source": [
    "model.evaluate(X_valid, y_valid)\n",
    "# Using Dense output layer slightly improved the result and it also faster. "
   ]
  },
  {
   "cell_type": "code",
   "execution_count": null,
   "metadata": {
    "id": "SavFgTbaNukE"
   },
   "outputs": [],
   "source": []
  },
  {
   "cell_type": "code",
   "execution_count": 185,
   "metadata": {
    "id": "hYWn2O2ZhvN_"
   },
   "outputs": [
    {
     "data": {
      "image/png": "[encoded data removed]",
      "text/plain": [
       "<Figure size 432x288 with 1 Axes>"
      ]
     },
     "metadata": {
      "needs_background": "light"
     },
     "output_type": "display_data"
    }
   ],
   "source": [
    "plot_learning_curves(history.history[\"loss\"], history.history[\"val_loss\"])\n",
    "plt.show()"
   ]
  },
  {
   "cell_type": "code",
   "execution_count": 186,
   "metadata": {
    "id": "OA7dKnxlhvOA"
   },
   "outputs": [
    {
     "data": {
      "image/png": "[encoded data removed]",
      "text/plain": [
       "<Figure size 432x288 with 1 Axes>"
      ]
     },
     "metadata": {
      "needs_background": "light"
     },
     "output_type": "display_data"
    }
   ],
   "source": [
    "y_pred = model.predict(X_valid)\n",
    "plot_series(X_valid[0, :, 0], y_valid[0, 0], y_pred[0, 0])\n",
    "plt.show()"
   ]
  },
  {
   "cell_type": "markdown",
   "metadata": {
    "id": "O-6Idv20hvOB"
   },
   "source": [
    "## Forecasting Several Steps Ahead\n",
    "\n",
    "Before we predicted one step ahead, which is less useful than forecasting using several periods into the future. The additional benefit is that the loss function includes the the losses from 10 steps, not just a loss from one -- which is more robust and speed up the training. \n"
   ]
  },
  {
   "cell_type": "code",
   "execution_count": 187,
   "metadata": {
    "id": "r4hcCk-phvOC"
   },
   "outputs": [],
   "source": [
    "np.random.seed(43) # not 42, as it would give the first series in the train set\n",
    "# add 10 more steps to the series \n",
    "series = generate_time_series(1, n_steps + 10)\n",
    "# Y is the future 10 steps, X is past 50 steps\n",
    "X_new, Y_new = series[:, :n_steps], series[:, n_steps:]\n",
    "X = X_new\n",
    "for step_ahead in range(10):\n",
    "# try prediction of further steps using the last model we estimates (single step prediction)\n",
    "    y_pred_one = model.predict(X[:, step_ahead:])[:, np.newaxis, :]\n",
    "    # append prediction to the X data to generate new prediction\n",
    "    X = np.concatenate([X, y_pred_one], axis=1)\n",
    "# get all 10 prediction steps\n",
    "Y_pred = X[:, n_steps:]"
   ]
  },
  {
   "cell_type": "code",
   "execution_count": 188,
   "metadata": {
    "id": "YdmVG4UmhvOD"
   },
   "outputs": [
    {
     "data": {
      "text/plain": [
       "(1, 10, 1)"
      ]
     },
     "execution_count": 188,
     "metadata": {},
     "output_type": "execute_result"
    }
   ],
   "source": [
    "Y_pred.shape"
   ]
  },
  {
   "cell_type": "code",
   "execution_count": 189,
   "metadata": {
    "id": "VI5TKFgqhvOE"
   },
   "outputs": [
    {
     "name": "stdout",
     "output_type": "stream",
     "text": [
      "Saving figure forecast_ahead_plot\n"
     ]
    },
    {
     "data": {
      "image/png": "[encoded data removed]",
      "text/plain": [
       "<Figure size 432x288 with 1 Axes>"
      ]
     },
     "metadata": {
      "needs_background": "light"
     },
     "output_type": "display_data"
    }
   ],
   "source": [
    "# Make a graph of series prediction. Just a show of the problem\n",
    "def plot_multiple_forecasts(X, Y, Y_pred):\n",
    "    n_steps = X.shape[1]\n",
    "    ahead = Y.shape[1]\n",
    "    plot_series(X[0, :, 0])\n",
    "    plt.plot(np.arange(n_steps, n_steps + ahead), Y[0, :, 0], \"ro-\", label=\"Actual\")\n",
    "    plt.plot(np.arange(n_steps, n_steps + ahead), Y_pred[0, :, 0], \"bx-\", label=\"Forecast\", markersize=10)\n",
    "    plt.axis([0, n_steps + ahead, -1, 1])\n",
    "    plt.legend(fontsize=14)\n",
    "\n",
    "plot_multiple_forecasts(X_new, Y_new, Y_pred)\n",
    "save_fig(\"forecast_ahead_plot\")\n",
    "plt.show()"
   ]
  },
  {
   "cell_type": "markdown",
   "metadata": {
    "id": "4ZfVmqdChvOF"
   },
   "source": [
    " We first need to regenerate the sequences with 9 more time steps."
   ]
  },
  {
   "cell_type": "code",
   "execution_count": 190,
   "metadata": {
    "id": "fN-PCoGphvOF"
   },
   "outputs": [],
   "source": [
    "np.random.seed(42)\n",
    "n_steps = 50\n",
    "# Full series has 10 more steps\n",
    "series = generate_time_series(10000, n_steps + 10)\n",
    "# X has 10 less steps. The rest of the breakdows is the same as above\n",
    "X_train, Y_train = series[:7000, :n_steps], series[:7000, -10:, 0]\n",
    "X_valid, Y_valid = series[7000:9000, :n_steps], series[7000:9000, -10:, 0]\n",
    "X_test, Y_test = series[9000:, :n_steps], series[9000:, -10:, 0]"
   ]
  },
  {
   "cell_type": "markdown",
   "metadata": {
    "id": "MCiDs5qPhvOG"
   },
   "source": [
    "Now let's predict the next 10 values one by one:"
   ]
  },
  {
   "cell_type": "code",
   "execution_count": 191,
   "metadata": {
    "id": "Sxvj_MrQhvOG"
   },
   "outputs": [],
   "source": [
    "# Use the model estimated in the one-step ahead problem\n",
    "X = X_valid\n",
    "for step_ahead in range(10):\n",
    "    y_pred_one = model.predict(X)[:, np.newaxis, :]\n",
    "    X = np.concatenate([X, y_pred_one], axis=1)\n",
    "\n",
    "Y_pred = X[:, n_steps:, 0]"
   ]
  },
  {
   "cell_type": "code",
   "execution_count": 192,
   "metadata": {
    "id": "QW1nSR1KhvOH"
   },
   "outputs": [
    {
     "data": {
      "text/plain": [
       "(2000, 10)"
      ]
     },
     "execution_count": 192,
     "metadata": {},
     "output_type": "execute_result"
    }
   ],
   "source": [
    "# Validation data 2000 series with 10 steps.\n",
    "Y_pred.shape"
   ]
  },
  {
   "cell_type": "code",
   "execution_count": 193,
   "metadata": {
    "id": "khp2roURhvOI"
   },
   "outputs": [
    {
     "data": {
      "text/plain": [
       "0.027510857"
      ]
     },
     "execution_count": 193,
     "metadata": {},
     "output_type": "execute_result"
    }
   ],
   "source": [
    "np.mean(keras.metrics.mean_squared_error(Y_valid, Y_pred))"
   ]
  },
  {
   "cell_type": "markdown",
   "metadata": {
    "id": "2n6nexVshvOJ"
   },
   "source": [
    "Let's compare this performance with some baselines: naive predictions and a simple linear model:"
   ]
  },
  {
   "cell_type": "code",
   "execution_count": 194,
   "metadata": {
    "id": "aaMC6aWAhvOK"
   },
   "outputs": [
    {
     "data": {
      "text/plain": [
       "0.22278848"
      ]
     },
     "execution_count": 194,
     "metadata": {},
     "output_type": "execute_result"
    }
   ],
   "source": [
    "# last step prediction\n",
    "Y_naive_pred = Y_valid[:, -1:]\n",
    "np.mean(keras.metrics.mean_squared_error(Y_valid, Y_naive_pred))"
   ]
  },
  {
   "cell_type": "markdown",
   "metadata": {},
   "source": [
    "Next we will try to predict 10 steps ahead in the same time, not one-by-one"
   ]
  },
  {
   "cell_type": "code",
   "execution_count": 195,
   "metadata": {
    "id": "8WIC5xjHhvOL",
    "scrolled": true
   },
   "outputs": [
    {
     "name": "stdout",
     "output_type": "stream",
     "text": [
      "Epoch 1/20\n",
      "219/219 [==============================] - 0s 759us/step - loss: 0.1343 - val_loss: 0.0606\n",
      "Epoch 2/20\n",
      "219/219 [==============================] - 0s 532us/step - loss: 0.0496 - val_loss: 0.0425\n",
      "Epoch 3/20\n",
      "219/219 [==============================] - 0s 552us/step - loss: 0.0385 - val_loss: 0.0353\n",
      "Epoch 4/20\n",
      "219/219 [==============================] - 0s 525us/step - loss: 0.0331 - val_loss: 0.0311\n",
      "Epoch 5/20\n",
      "219/219 [==============================] - 0s 521us/step - loss: 0.0298 - val_loss: 0.0283\n",
      "Epoch 6/20\n",
      "219/219 [==============================] - 0s 532us/step - loss: 0.0273 - val_loss: 0.0264\n",
      "Epoch 7/20\n",
      "219/219 [==============================] - 0s 539us/step - loss: 0.0256 - val_loss: 0.0249\n",
      "Epoch 8/20\n",
      "219/219 [==============================] - 0s 531us/step - loss: 0.0244 - val_loss: 0.0237\n",
      "Epoch 9/20\n",
      "219/219 [==============================] - 0s 531us/step - loss: 0.0234 - val_loss: 0.0229\n",
      "Epoch 10/20\n",
      "219/219 [==============================] - 0s 542us/step - loss: 0.0227 - val_loss: 0.0222\n",
      "Epoch 11/20\n",
      "219/219 [==============================] - 0s 543us/step - loss: 0.0220 - val_loss: 0.0216\n",
      "Epoch 12/20\n",
      "219/219 [==============================] - 0s 530us/step - loss: 0.0215 - val_loss: 0.0212\n",
      "Epoch 13/20\n",
      "219/219 [==============================] - 0s 524us/step - loss: 0.0210 - val_loss: 0.0208\n",
      "Epoch 14/20\n",
      "219/219 [==============================] - 0s 519us/step - loss: 0.0207 - val_loss: 0.0207\n",
      "Epoch 15/20\n",
      "219/219 [==============================] - 0s 524us/step - loss: 0.0203 - val_loss: 0.0202\n",
      "Epoch 16/20\n",
      "219/219 [==============================] - 0s 533us/step - loss: 0.0200 - val_loss: 0.0199\n",
      "Epoch 17/20\n",
      "219/219 [==============================] - 0s 532us/step - loss: 0.0197 - val_loss: 0.0195\n",
      "Epoch 18/20\n",
      "219/219 [==============================] - 0s 535us/step - loss: 0.0193 - val_loss: 0.0192\n",
      "Epoch 19/20\n",
      "219/219 [==============================] - 0s 526us/step - loss: 0.0191 - val_loss: 0.0189\n",
      "Epoch 20/20\n",
      "219/219 [==============================] - 0s 525us/step - loss: 0.0188 - val_loss: 0.0187\n"
     ]
    }
   ],
   "source": [
    "# Construct using linear regression model predicting 10 steps ahead\n",
    "np.random.seed(42)\n",
    "tf.random.set_seed(42)\n",
    "\n",
    "model = keras.models.Sequential([\n",
    "    keras.layers.Flatten(input_shape=[50, 1]),\n",
    "    # out put has 10 steps\n",
    "    keras.layers.Dense(10)\n",
    "])\n",
    "\n",
    "model.compile(loss=\"mse\", optimizer=\"adam\")\n",
    "history = model.fit(X_train, Y_train, epochs=20,\n",
    "                    validation_data=(X_valid, Y_valid))"
   ]
  },
  {
   "cell_type": "markdown",
   "metadata": {
    "id": "RSxXka_FhvOM"
   },
   "source": [
    "Now let's create an RNN that predicts all 10 next values at once. The model is not predictive, it has access to the whole sequency."
   ]
  },
  {
   "cell_type": "code",
   "execution_count": 196,
   "metadata": {
    "id": "IbJ9dzOEhvOM",
    "scrolled": true
   },
   "outputs": [
    {
     "name": "stdout",
     "output_type": "stream",
     "text": [
      "Epoch 1/20\n",
      "219/219 [==============================] - 3s 11ms/step - loss: 0.0669 - val_loss: 0.0317\n",
      "Epoch 2/20\n",
      "219/219 [==============================] - 2s 10ms/step - loss: 0.0265 - val_loss: 0.0200\n",
      "Epoch 3/20\n",
      "219/219 [==============================] - 2s 10ms/step - loss: 0.0183 - val_loss: 0.0160\n",
      "Epoch 4/20\n",
      "219/219 [==============================] - 2s 10ms/step - loss: 0.0155 - val_loss: 0.0144\n",
      "Epoch 5/20\n",
      "219/219 [==============================] - 2s 10ms/step - loss: 0.0139 - val_loss: 0.0118\n",
      "Epoch 6/20\n",
      "219/219 [==============================] - 2s 10ms/step - loss: 0.0128 - val_loss: 0.0112\n",
      "Epoch 7/20\n",
      "219/219 [==============================] - 2s 10ms/step - loss: 0.0122 - val_loss: 0.0110\n",
      "Epoch 8/20\n",
      "219/219 [==============================] - 2s 10ms/step - loss: 0.0115 - val_loss: 0.0103\n",
      "Epoch 9/20\n",
      "219/219 [==============================] - 2s 10ms/step - loss: 0.0111 - val_loss: 0.0112\n",
      "Epoch 10/20\n",
      "219/219 [==============================] - 2s 10ms/step - loss: 0.0110 - val_loss: 0.0100\n",
      "Epoch 11/20\n",
      "219/219 [==============================] - 2s 11ms/step - loss: 0.0108 - val_loss: 0.0103\n",
      "Epoch 12/20\n",
      "219/219 [==============================] - 2s 11ms/step - loss: 0.0102 - val_loss: 0.0096\n",
      "Epoch 13/20\n",
      "219/219 [==============================] - 2s 11ms/step - loss: 0.0104 - val_loss: 0.0100\n",
      "Epoch 14/20\n",
      "219/219 [==============================] - 2s 10ms/step - loss: 0.0098 - val_loss: 0.0103\n",
      "Epoch 15/20\n",
      "219/219 [==============================] - 2s 10ms/step - loss: 0.0095 - val_loss: 0.0107\n",
      "Epoch 16/20\n",
      "219/219 [==============================] - 2s 10ms/step - loss: 0.0092 - val_loss: 0.0089\n",
      "Epoch 17/20\n",
      "219/219 [==============================] - 2s 10ms/step - loss: 0.0094 - val_loss: 0.0111\n",
      "Epoch 18/20\n",
      "219/219 [==============================] - 2s 10ms/step - loss: 0.0095 - val_loss: 0.0094\n",
      "Epoch 19/20\n",
      "219/219 [==============================] - 2s 10ms/step - loss: 0.0093 - val_loss: 0.0083\n",
      "Epoch 20/20\n",
      "219/219 [==============================] - 2s 10ms/step - loss: 0.0094 - val_loss: 0.0085\n"
     ]
    }
   ],
   "source": [
    "np.random.seed(42)\n",
    "tf.random.set_seed(42)\n",
    "\n",
    "model = keras.models.Sequential([\n",
    "    keras.layers.SimpleRNN(20, return_sequences=True, input_shape=[None, 1]),\n",
    "    keras.layers.SimpleRNN(20),\n",
    "    # Use Dense layers \n",
    "    keras.layers.Dense(10)\n",
    "])\n",
    "\n",
    "model.compile(loss=\"mse\", optimizer=\"adam\")\n",
    "history = model.fit(X_train, Y_train, epochs=20,\n",
    "                    validation_data=(X_valid, Y_valid))"
   ]
  },
  {
   "cell_type": "markdown",
   "metadata": {
    "id": "AD4Im7EMsi1W"
   },
   "source": []
  },
  {
   "cell_type": "code",
   "execution_count": 197,
   "metadata": {
    "id": "JOY9lxjMhvON"
   },
   "outputs": [],
   "source": [
    "np.random.seed(43)\n",
    "\n",
    "series = generate_time_series(1, 50 + 10)\n",
    "X_new, Y_new = series[:, :50, :], series[:, -10:, :]\n",
    "Y_pred = model.predict(X_new)[..., np.newaxis]"
   ]
  },
  {
   "cell_type": "code",
   "execution_count": 198,
   "metadata": {
    "id": "qS0jgoeAhvOO"
   },
   "outputs": [
    {
     "data": {
      "image/png": "[encoded data removed]",
      "text/plain": [
       "<Figure size 432x288 with 1 Axes>"
      ]
     },
     "metadata": {
      "needs_background": "light"
     },
     "output_type": "display_data"
    }
   ],
   "source": [
    "plot_multiple_forecasts(X_new, Y_new, Y_pred)\n",
    "plt.show()"
   ]
  },
  {
   "cell_type": "markdown",
   "metadata": {
    "id": "w0y4QOl7hvOP"
   },
   "source": [
    "Now let's create an RNN that predicts the next 10 steps at each time step. That is, instead of just forecasting time steps 50 to 59 based on time steps 0 to 49, it will forecast time steps 1 to 10 at time step 0, then time steps 2 to 11 at time step 1, and so on, and finally it will forecast time steps 50 to 59 at the last time step. Notice that the model is causal: when it makes predictions at any time step, it can only see past time steps."
   ]
  },
  {
   "cell_type": "code",
   "execution_count": 199,
   "metadata": {
    "id": "AdgYdNHKhvOP"
   },
   "outputs": [],
   "source": [
    "np.random.seed(42)\n",
    "\n",
    "n_steps = 50\n",
    "series = generate_time_series(10000, n_steps + 10)\n",
    "X_train = series[:7000, :n_steps]\n",
    "X_valid = series[7000:9000, :n_steps]\n",
    "X_test = series[9000:, :n_steps]\n",
    "# One Y has 10 steps are for each step in X\n",
    "Y = np.empty((10000, n_steps, 10)) \n",
    "for step_ahead in range(1, 10 + 1):\n",
    "    Y[..., step_ahead - 1] = series[..., step_ahead:step_ahead + n_steps, 0]\n",
    "Y_train = Y[:7000]\n",
    "Y_valid = Y[7000:9000]\n",
    "Y_test = Y[9000:]"
   ]
  },
  {
   "cell_type": "code",
   "execution_count": 200,
   "metadata": {
    "id": "uy_9_3DShvOQ"
   },
   "outputs": [
    {
     "data": {
      "text/plain": [
       "((7000, 50, 1), (7000, 50, 10))"
      ]
     },
     "execution_count": 200,
     "metadata": {},
     "output_type": "execute_result"
    }
   ],
   "source": [
    "X_train.shape, Y_train.shape"
   ]
  },
  {
   "cell_type": "code",
   "execution_count": 201,
   "metadata": {
    "id": "m5W2n37dhvOR"
   },
   "outputs": [
    {
     "name": "stdout",
     "output_type": "stream",
     "text": [
      "Epoch 1/20\n",
      "219/219 [==============================] - 3s 12ms/step - loss: 0.0508 - last_time_step_mse: 0.0400 - val_loss: 0.0429 - val_last_time_step_mse: 0.0324\n",
      "Epoch 2/20\n",
      "219/219 [==============================] - 2s 11ms/step - loss: 0.0395 - last_time_step_mse: 0.0283 - val_loss: 0.0366 - val_last_time_step_mse: 0.0264\n",
      "Epoch 3/20\n",
      "219/219 [==============================] - 2s 11ms/step - loss: 0.0323 - last_time_step_mse: 0.0212 - val_loss: 0.0343 - val_last_time_step_mse: 0.0244\n",
      "Epoch 4/20\n",
      "219/219 [==============================] - 2s 10ms/step - loss: 0.0297 - last_time_step_mse: 0.0186 - val_loss: 0.0284 - val_last_time_step_mse: 0.0164\n",
      "Epoch 5/20\n",
      "219/219 [==============================] - 2s 10ms/step - loss: 0.0274 - last_time_step_mse: 0.0153 - val_loss: 0.0282 - val_last_time_step_mse: 0.0196\n",
      "Epoch 6/20\n",
      "219/219 [==============================] - 2s 11ms/step - loss: 0.0251 - last_time_step_mse: 0.0126 - val_loss: 0.0215 - val_last_time_step_mse: 0.0081\n",
      "Epoch 7/20\n",
      "219/219 [==============================] - 2s 11ms/step - loss: 0.0233 - last_time_step_mse: 0.0106 - val_loss: 0.0220 - val_last_time_step_mse: 0.0089\n",
      "Epoch 8/20\n",
      "219/219 [==============================] - 2s 11ms/step - loss: 0.0216 - last_time_step_mse: 0.0086 - val_loss: 0.0217 - val_last_time_step_mse: 0.0091\n",
      "Epoch 9/20\n",
      "219/219 [==============================] - 2s 11ms/step - loss: 0.0214 - last_time_step_mse: 0.0085 - val_loss: 0.0202 - val_last_time_step_mse: 0.0074\n",
      "Epoch 10/20\n",
      "219/219 [==============================] - 2s 11ms/step - loss: 0.0212 - last_time_step_mse: 0.0088 - val_loss: 0.0211 - val_last_time_step_mse: 0.0086\n",
      "Epoch 11/20\n",
      "219/219 [==============================] - 2s 11ms/step - loss: 0.0204 - last_time_step_mse: 0.0079 - val_loss: 0.0201 - val_last_time_step_mse: 0.0078\n",
      "Epoch 12/20\n",
      "219/219 [==============================] - 2s 11ms/step - loss: 0.0202 - last_time_step_mse: 0.0079 - val_loss: 0.0194 - val_last_time_step_mse: 0.0073\n",
      "Epoch 13/20\n",
      "219/219 [==============================] - 2s 11ms/step - loss: 0.0198 - last_time_step_mse: 0.0075 - val_loss: 0.0209 - val_last_time_step_mse: 0.0085\n",
      "Epoch 14/20\n",
      "219/219 [==============================] - 2s 11ms/step - loss: 0.0192 - last_time_step_mse: 0.0071 - val_loss: 0.0189 - val_last_time_step_mse: 0.0067\n",
      "Epoch 15/20\n",
      "219/219 [==============================] - 2s 11ms/step - loss: 0.0192 - last_time_step_mse: 0.0071 - val_loss: 0.0182 - val_last_time_step_mse: 0.0066\n",
      "Epoch 16/20\n",
      "219/219 [==============================] - 2s 11ms/step - loss: 0.0188 - last_time_step_mse: 0.0067 - val_loss: 0.0196 - val_last_time_step_mse: 0.0095\n",
      "Epoch 17/20\n",
      "219/219 [==============================] - 2s 11ms/step - loss: 0.0187 - last_time_step_mse: 0.0067 - val_loss: 0.0185 - val_last_time_step_mse: 0.0072\n",
      "Epoch 18/20\n",
      "219/219 [==============================] - 2s 11ms/step - loss: 0.0187 - last_time_step_mse: 0.0070 - val_loss: 0.0179 - val_last_time_step_mse: 0.0064\n",
      "Epoch 19/20\n",
      "219/219 [==============================] - 2s 11ms/step - loss: 0.0184 - last_time_step_mse: 0.0067 - val_loss: 0.0172 - val_last_time_step_mse: 0.0058\n",
      "Epoch 20/20\n",
      "219/219 [==============================] - 2s 11ms/step - loss: 0.0182 - last_time_step_mse: 0.0067 - val_loss: 0.0205 - val_last_time_step_mse: 0.0096\n"
     ]
    }
   ],
   "source": [
    "np.random.seed(42)\n",
    "tf.random.set_seed(42)\n",
    "\n",
    "model = keras.models.Sequential([\n",
    "    keras.layers.SimpleRNN(20, return_sequences=True, input_shape=[None, 1]),\n",
    "    keras.layers.SimpleRNN(20, return_sequences=True),\n",
    "    # We predict 10 steps that are in sequence\n",
    "    keras.layers.TimeDistributed(keras.layers.Dense(10))\n",
    "])\n",
    "# Let us add a metric of last step MSE\n",
    "def last_time_step_mse(Y_true, Y_pred):\n",
    "    return keras.metrics.mean_squared_error(Y_true[:, -1], Y_pred[:, -1])\n",
    "\n",
    "model.compile(loss=\"mse\", optimizer=keras.optimizers.Adam(lr=0.01), metrics=[last_time_step_mse])\n",
    "history = model.fit(X_train, Y_train, epochs=20,\n",
    "                    validation_data=(X_valid, Y_valid))"
   ]
  },
  {
   "cell_type": "code",
   "execution_count": 202,
   "metadata": {
    "id": "SOd9EAOehvOS"
   },
   "outputs": [],
   "source": [
    "np.random.seed(43)\n",
    "series = generate_time_series(1, 50 + 10)\n",
    "X_new, Y_new = series[:, :50, :], series[:, 50:, :]\n",
    "Y_pred = model.predict(X_new)[:, -1][..., np.newaxis]"
   ]
  },
  {
   "cell_type": "code",
   "execution_count": 203,
   "metadata": {
    "id": "d-ll_zg5hvOT",
    "scrolled": false
   },
   "outputs": [
    {
     "data": {
      "image/png": "[encoded data removed]",
      "text/plain": [
       "<Figure size 432x288 with 1 Axes>"
      ]
     },
     "metadata": {
      "needs_background": "light"
     },
     "output_type": "display_data"
    }
   ],
   "source": [
    "plot_multiple_forecasts(X_new, Y_new, Y_pred)\n",
    "plt.show()"
   ]
  },
  {
   "cell_type": "markdown",
   "metadata": {
    "id": "-tf64roNOsxc"
   },
   "source": [
    "RNN has the same tricks as DNN: parameter initialization, optimizer, drop-out, etc. Though non-saturating functions (it can go to infitinity), such as ReLU does not help because same weights applied in many steps and if they slightly increase between them it can lead to the gradient explosion. Hyperbolic tangent function is bounded between -1 and 1 and used as a default fro RNN.\n",
    "\n",
    "Batch normalization does not produce good results because it has to be used for each layer of each step and it is hard and inefficient.  \n",
    "\n",
    "There is additional tool: layers normalization instead of normilizes across batches it normilizes across features. \n"
   ]
  },
  {
   "cell_type": "markdown",
   "metadata": {
    "id": "11Xhu5KNguRU"
   },
   "source": [
    "## Training a sequence classifier"
   ]
  },
  {
   "cell_type": "markdown",
   "metadata": {
    "id": "D_iUOZlVDVwh"
   },
   "source": [
    "# Deep RNN with Batch Norm"
   ]
  },
  {
   "cell_type": "code",
   "execution_count": 204,
   "metadata": {
    "id": "JLMjIkpODVwh",
    "scrolled": true
   },
   "outputs": [
    {
     "name": "stdout",
     "output_type": "stream",
     "text": [
      "Epoch 1/20\n",
      "219/219 [==============================] - 3s 12ms/step - loss: 0.1929 - last_time_step_mse: 0.1902 - val_loss: 0.0877 - val_last_time_step_mse: 0.0832\n",
      "Epoch 2/20\n",
      "219/219 [==============================] - 2s 11ms/step - loss: 0.0537 - last_time_step_mse: 0.0449 - val_loss: 0.0549 - val_last_time_step_mse: 0.0462\n",
      "Epoch 3/20\n",
      "219/219 [==============================] - 2s 11ms/step - loss: 0.0471 - last_time_step_mse: 0.0375 - val_loss: 0.0451 - val_last_time_step_mse: 0.0358\n",
      "Epoch 4/20\n",
      "219/219 [==============================] - 2s 11ms/step - loss: 0.0437 - last_time_step_mse: 0.0337 - val_loss: 0.0418 - val_last_time_step_mse: 0.0314\n",
      "Epoch 5/20\n",
      "219/219 [==============================] - 2s 11ms/step - loss: 0.0409 - last_time_step_mse: 0.0306 - val_loss: 0.0391 - val_last_time_step_mse: 0.0287\n",
      "Epoch 6/20\n",
      "219/219 [==============================] - 2s 11ms/step - loss: 0.0385 - last_time_step_mse: 0.0275 - val_loss: 0.0379 - val_last_time_step_mse: 0.0273\n",
      "Epoch 7/20\n",
      "219/219 [==============================] - 3s 12ms/step - loss: 0.0366 - last_time_step_mse: 0.0254 - val_loss: 0.0367 - val_last_time_step_mse: 0.0248\n",
      "Epoch 8/20\n",
      "219/219 [==============================] - 3s 12ms/step - loss: 0.0349 - last_time_step_mse: 0.0235 - val_loss: 0.0363 - val_last_time_step_mse: 0.0249\n",
      "Epoch 9/20\n",
      "219/219 [==============================] - 2s 11ms/step - loss: 0.0338 - last_time_step_mse: 0.0221 - val_loss: 0.0332 - val_last_time_step_mse: 0.0208\n",
      "Epoch 10/20\n",
      "219/219 [==============================] - 2s 11ms/step - loss: 0.0329 - last_time_step_mse: 0.0214 - val_loss: 0.0335 - val_last_time_step_mse: 0.0214\n",
      "Epoch 11/20\n",
      "219/219 [==============================] - 2s 11ms/step - loss: 0.0322 - last_time_step_mse: 0.0206 - val_loss: 0.0323 - val_last_time_step_mse: 0.0203\n",
      "Epoch 12/20\n",
      "219/219 [==============================] - 2s 11ms/step - loss: 0.0316 - last_time_step_mse: 0.0198 - val_loss: 0.0333 - val_last_time_step_mse: 0.0210\n",
      "Epoch 13/20\n",
      "219/219 [==============================] - 3s 11ms/step - loss: 0.0310 - last_time_step_mse: 0.0191 - val_loss: 0.0310 - val_last_time_step_mse: 0.0187\n",
      "Epoch 14/20\n",
      "219/219 [==============================] - 3s 11ms/step - loss: 0.0305 - last_time_step_mse: 0.0186 - val_loss: 0.0310 - val_last_time_step_mse: 0.0189\n",
      "Epoch 15/20\n",
      "219/219 [==============================] - 3s 12ms/step - loss: 0.0302 - last_time_step_mse: 0.0182 - val_loss: 0.0298 - val_last_time_step_mse: 0.0178\n",
      "Epoch 16/20\n",
      "219/219 [==============================] - 3s 12ms/step - loss: 0.0296 - last_time_step_mse: 0.0176 - val_loss: 0.0293 - val_last_time_step_mse: 0.0174\n",
      "Epoch 17/20\n",
      "219/219 [==============================] - 3s 11ms/step - loss: 0.0293 - last_time_step_mse: 0.0172 - val_loss: 0.0315 - val_last_time_step_mse: 0.0200\n",
      "Epoch 18/20\n",
      "219/219 [==============================] - 2s 11ms/step - loss: 0.0289 - last_time_step_mse: 0.0168 - val_loss: 0.0295 - val_last_time_step_mse: 0.0174\n",
      "Epoch 19/20\n",
      "219/219 [==============================] - 2s 11ms/step - loss: 0.0286 - last_time_step_mse: 0.0168 - val_loss: 0.0290 - val_last_time_step_mse: 0.0163\n",
      "Epoch 20/20\n",
      "219/219 [==============================] - 2s 11ms/step - loss: 0.0281 - last_time_step_mse: 0.0161 - val_loss: 0.0288 - val_last_time_step_mse: 0.0164\n"
     ]
    }
   ],
   "source": [
    "np.random.seed(42)\n",
    "tf.random.set_seed(42)\n",
    "\n",
    "\n",
    "\n",
    "model = keras.models.Sequential([\n",
    "    keras.layers.SimpleRNN(20, return_sequences=True, input_shape=[None, 1]),\n",
    "    keras.layers.BatchNormalization(),\n",
    "    keras.layers.SimpleRNN(20, return_sequences=True),\n",
    "    keras.layers.BatchNormalization(),\n",
    "    keras.layers.TimeDistributed(keras.layers.Dense(10))\n",
    "])\n",
    "\n",
    "model.compile(loss=\"mse\", optimizer=\"adam\", metrics=[last_time_step_mse])\n",
    "history = model.fit(X_train, Y_train, epochs=20,\n",
    "                    validation_data=(X_valid, Y_valid))"
   ]
  },
  {
   "cell_type": "markdown",
   "metadata": {
    "id": "KgB3kp-VDVwi"
   },
   "source": [
    "# Deep RNNs with Layer Norm"
   ]
  },
  {
   "cell_type": "code",
   "execution_count": 210,
   "metadata": {
    "id": "FgRCYFhzDVwi"
   },
   "outputs": [],
   "source": [
    "from tensorflow.keras.layers import LayerNormalization"
   ]
  },
  {
   "cell_type": "code",
   "execution_count": 206,
   "metadata": {
    "id": "26qp2_VyDVwk"
   },
   "outputs": [],
   "source": [
    "# We embed several function here:\n",
    "# The object we will transform is the keras layer\n",
    "# Example of the user-defined function\n",
    "class LNSimpleRNNCell(keras.layers.Layer):\n",
    "    def __init__(self, units, activation=\"tanh\", **kwargs):\n",
    "        super().__init__(**kwargs)\n",
    "        # We load number of input and output connections for a layer\n",
    "        # Normilize before activation function is applied, so it None\n",
    "        self.state_size = units\n",
    "        self.output_size = units\n",
    "        self.simple_rnn_cell = keras.layers.SimpleRNNCell(units,\n",
    "                                                          activation=None)\n",
    "        # Normilize layers\n",
    "        self.layer_norm = LayerNormalization()\n",
    "        # Apply activation function\n",
    "        self.activation = keras.activations.get(activation)\n",
    "        # Get initial state of the next layer\n",
    "    def call(self, inputs, states):\n",
    "        # return outputs for outouts y and hidden states h\n",
    "        outputs, new_states = self.simple_rnn_cell(inputs, states)\n",
    "        norm_outputs = self.activation(self.layer_norm(outputs))\n",
    "        return norm_outputs, [norm_outputs]"
   ]
  },
  {
   "cell_type": "code",
   "execution_count": 211,
   "metadata": {
    "id": "X8Gq80E2DVwl",
    "scrolled": true
   },
   "outputs": [
    {
     "name": "stdout",
     "output_type": "stream",
     "text": [
      "Epoch 1/20\n",
      "219/219 [==============================] - 7s 32ms/step - loss: 0.1696 - last_time_step_mse: 0.1641 - val_loss: 0.0745 - val_last_time_step_mse: 0.0698\n",
      "Epoch 2/20\n",
      "219/219 [==============================] - 7s 31ms/step - loss: 0.0635 - last_time_step_mse: 0.0570 - val_loss: 0.0566 - val_last_time_step_mse: 0.0504\n",
      "Epoch 3/20\n",
      "219/219 [==============================] - 7s 31ms/step - loss: 0.0535 - last_time_step_mse: 0.0464 - val_loss: 0.0502 - val_last_time_step_mse: 0.0432\n",
      "Epoch 4/20\n",
      "219/219 [==============================] - 7s 30ms/step - loss: 0.0469 - last_time_step_mse: 0.0386 - val_loss: 0.0436 - val_last_time_step_mse: 0.0341\n",
      "Epoch 5/20\n",
      "219/219 [==============================] - 7s 31ms/step - loss: 0.0411 - last_time_step_mse: 0.0306 - val_loss: 0.0384 - val_last_time_step_mse: 0.0277\n",
      "Epoch 6/20\n",
      "219/219 [==============================] - 7s 31ms/step - loss: 0.0376 - last_time_step_mse: 0.0261 - val_loss: 0.0359 - val_last_time_step_mse: 0.0248\n",
      "Epoch 7/20\n",
      "219/219 [==============================] - 7s 32ms/step - loss: 0.0357 - last_time_step_mse: 0.0242 - val_loss: 0.0343 - val_last_time_step_mse: 0.0230\n",
      "Epoch 8/20\n",
      "219/219 [==============================] - 7s 32ms/step - loss: 0.0341 - last_time_step_mse: 0.0223 - val_loss: 0.0339 - val_last_time_step_mse: 0.0225\n",
      "Epoch 9/20\n",
      "219/219 [==============================] - 7s 33ms/step - loss: 0.0330 - last_time_step_mse: 0.0212 - val_loss: 0.0335 - val_last_time_step_mse: 0.0226\n",
      "Epoch 10/20\n",
      "219/219 [==============================] - 7s 32ms/step - loss: 0.0322 - last_time_step_mse: 0.0204 - val_loss: 0.0314 - val_last_time_step_mse: 0.0191\n",
      "Epoch 11/20\n",
      "219/219 [==============================] - 7s 33ms/step - loss: 0.0314 - last_time_step_mse: 0.0193 - val_loss: 0.0305 - val_last_time_step_mse: 0.0180\n",
      "Epoch 12/20\n",
      "219/219 [==============================] - 7s 32ms/step - loss: 0.0310 - last_time_step_mse: 0.0187 - val_loss: 0.0299 - val_last_time_step_mse: 0.0177\n",
      "Epoch 13/20\n",
      "219/219 [==============================] - 7s 31ms/step - loss: 0.0298 - last_time_step_mse: 0.0172 - val_loss: 0.0292 - val_last_time_step_mse: 0.0168\n",
      "Epoch 14/20\n",
      "219/219 [==============================] - 7s 32ms/step - loss: 0.0291 - last_time_step_mse: 0.0164 - val_loss: 0.0282 - val_last_time_step_mse: 0.0155\n",
      "Epoch 15/20\n",
      "219/219 [==============================] - 7s 32ms/step - loss: 0.0287 - last_time_step_mse: 0.0160 - val_loss: 0.0284 - val_last_time_step_mse: 0.0158\n",
      "Epoch 16/20\n",
      "219/219 [==============================] - 7s 32ms/step - loss: 0.0283 - last_time_step_mse: 0.0157 - val_loss: 0.0278 - val_last_time_step_mse: 0.0146\n",
      "Epoch 17/20\n",
      "219/219 [==============================] - 8s 35ms/step - loss: 0.0280 - last_time_step_mse: 0.0153 - val_loss: 0.0278 - val_last_time_step_mse: 0.0146\n",
      "Epoch 18/20\n",
      "219/219 [==============================] - 7s 32ms/step - loss: 0.0275 - last_time_step_mse: 0.0146 - val_loss: 0.0272 - val_last_time_step_mse: 0.0140\n",
      "Epoch 19/20\n",
      "219/219 [==============================] - 7s 31ms/step - loss: 0.0273 - last_time_step_mse: 0.0144 - val_loss: 0.0270 - val_last_time_step_mse: 0.0134\n",
      "Epoch 20/20\n",
      "219/219 [==============================] - 7s 32ms/step - loss: 0.0269 - last_time_step_mse: 0.0140 - val_loss: 0.0266 - val_last_time_step_mse: 0.0130\n"
     ]
    }
   ],
   "source": [
    "np.random.seed(42)\n",
    "tf.random.set_seed(42)\n",
    "\n",
    "from tensorflow_addons.rnn.layer_norm_simple_rnn_cell import LayerNormSimpleRNNCell as RNN_norm\n",
    "\n",
    "model = keras.models.Sequential([\n",
    "    keras.layers.RNN(RNN_norm(20), return_sequences=True,\n",
    "                     input_shape=[None, 1]),\n",
    "    keras.layers.RNN(RNN_norm(20), return_sequences=True),\n",
    "    keras.layers.TimeDistributed(keras.layers.Dense(10))\n",
    "])\n",
    "\n",
    "model.compile(loss=\"mse\", optimizer=\"adam\", metrics=[last_time_step_mse])\n",
    "history = model.fit(X_train, Y_train, epochs=20,\n",
    "                    validation_data=(X_valid, Y_valid))"
   ]
  },
  {
   "cell_type": "code",
   "execution_count": 212,
   "metadata": {
    "id": "jmkBNsAAU8R6"
   },
   "outputs": [
    {
     "name": "stdout",
     "output_type": "stream",
     "text": [
      "Epoch 1/20\n",
      "219/219 [==============================] - 7s 30ms/step - loss: 0.1591 - last_time_step_mse: 0.1499 - val_loss: 0.0734 - val_last_time_step_mse: 0.0624\n",
      "Epoch 2/20\n",
      "219/219 [==============================] - 7s 30ms/step - loss: 0.0638 - last_time_step_mse: 0.0505 - val_loss: 0.0566 - val_last_time_step_mse: 0.0423\n",
      "Epoch 3/20\n",
      "219/219 [==============================] - 7s 30ms/step - loss: 0.0531 - last_time_step_mse: 0.0375 - val_loss: 0.0509 - val_last_time_step_mse: 0.0342\n",
      "Epoch 4/20\n",
      "219/219 [==============================] - 6s 30ms/step - loss: 0.0471 - last_time_step_mse: 0.0311 - val_loss: 0.0442 - val_last_time_step_mse: 0.0286\n",
      "Epoch 5/20\n",
      "219/219 [==============================] - 6s 29ms/step - loss: 0.0428 - last_time_step_mse: 0.0273 - val_loss: 0.0418 - val_last_time_step_mse: 0.0258\n",
      "Epoch 6/20\n",
      "219/219 [==============================] - 6s 29ms/step - loss: 0.0395 - last_time_step_mse: 0.0243 - val_loss: 0.0382 - val_last_time_step_mse: 0.0229\n",
      "Epoch 7/20\n",
      "219/219 [==============================] - 6s 29ms/step - loss: 0.0368 - last_time_step_mse: 0.0221 - val_loss: 0.0351 - val_last_time_step_mse: 0.0206\n",
      "Epoch 8/20\n",
      "219/219 [==============================] - 7s 30ms/step - loss: 0.0346 - last_time_step_mse: 0.0205 - val_loss: 0.0337 - val_last_time_step_mse: 0.0185\n",
      "Epoch 9/20\n",
      "219/219 [==============================] - 7s 31ms/step - loss: 0.0330 - last_time_step_mse: 0.0190 - val_loss: 0.0319 - val_last_time_step_mse: 0.0184\n",
      "Epoch 10/20\n",
      "219/219 [==============================] - 7s 30ms/step - loss: 0.0319 - last_time_step_mse: 0.0184 - val_loss: 0.0311 - val_last_time_step_mse: 0.0172\n",
      "Epoch 11/20\n",
      "219/219 [==============================] - 6s 29ms/step - loss: 0.0308 - last_time_step_mse: 0.0172 - val_loss: 0.0301 - val_last_time_step_mse: 0.0170\n",
      "Epoch 12/20\n",
      "219/219 [==============================] - 6s 29ms/step - loss: 0.0298 - last_time_step_mse: 0.0165 - val_loss: 0.0291 - val_last_time_step_mse: 0.0159\n",
      "Epoch 13/20\n",
      "219/219 [==============================] - 6s 29ms/step - loss: 0.0289 - last_time_step_mse: 0.0158 - val_loss: 0.0283 - val_last_time_step_mse: 0.0148\n",
      "Epoch 14/20\n",
      "219/219 [==============================] - 6s 28ms/step - loss: 0.0283 - last_time_step_mse: 0.0153 - val_loss: 0.0277 - val_last_time_step_mse: 0.0149\n",
      "Epoch 15/20\n",
      "219/219 [==============================] - 6s 30ms/step - loss: 0.0278 - last_time_step_mse: 0.0147 - val_loss: 0.0273 - val_last_time_step_mse: 0.0145\n",
      "Epoch 16/20\n",
      "219/219 [==============================] - 7s 30ms/step - loss: 0.0273 - last_time_step_mse: 0.0144 - val_loss: 0.0272 - val_last_time_step_mse: 0.0149\n",
      "Epoch 17/20\n",
      "219/219 [==============================] - 7s 30ms/step - loss: 0.0267 - last_time_step_mse: 0.0138 - val_loss: 0.0259 - val_last_time_step_mse: 0.0128\n",
      "Epoch 18/20\n",
      "219/219 [==============================] - 7s 30ms/step - loss: 0.0263 - last_time_step_mse: 0.0136 - val_loss: 0.0258 - val_last_time_step_mse: 0.0130\n",
      "Epoch 19/20\n",
      "219/219 [==============================] - 6s 30ms/step - loss: 0.0258 - last_time_step_mse: 0.0131 - val_loss: 0.0257 - val_last_time_step_mse: 0.0131\n",
      "Epoch 20/20\n",
      "219/219 [==============================] - 7s 30ms/step - loss: 0.0253 - last_time_step_mse: 0.0126 - val_loss: 0.0250 - val_last_time_step_mse: 0.0121\n"
     ]
    }
   ],
   "source": [
    "np.random.seed(42)\n",
    "tf.random.set_seed(42)\n",
    "# packaged function from tensor flow addons\n",
    "from tensorflow_addons.rnn.layer_norm_simple_rnn_cell import LayerNormSimpleRNNCell as RNN_norm\n",
    "\n",
    "model = keras.models.Sequential([\n",
    "    keras.layers.RNN(LNSimpleRNNCell(20), return_sequences=True,\n",
    "                     input_shape=[None, 1]),\n",
    "    keras.layers.RNN(LNSimpleRNNCell(20), return_sequences=True),\n",
    "    keras.layers.TimeDistributed(keras.layers.Dense(10))\n",
    "])\n",
    "\n",
    "model.compile(loss=\"mse\", optimizer=\"adam\", metrics=[last_time_step_mse])\n",
    "history = model.fit(X_train, Y_train, epochs=20,\n",
    "                    validation_data=(X_valid, Y_valid))# it did not improve our results, the exploding gradient is an unlikely problem in our series."
   ]
  },
  {
   "cell_type": "markdown",
   "metadata": {
    "id": "bIDosNc-DVwo"
   },
   "source": [
    "# LSTMs"
   ]
  },
  {
   "cell_type": "markdown",
   "metadata": {
    "id": "uQ41rcnuWICY"
   },
   "source": [
    "As data goes through when traversing an RNN, some information is lost at each time step. After a while, the RNN’s state contains virtually no trace of the first inputs. If you are translating a setence and when you reached the end, you forgot the begining, the translation is very difficult. The answer is Long Short-term Memory cell (LSTM). It is optimized when running on GPU. \n",
    "\n",
    "![Neuron inner working](images/LTSM.png)\n",
    "\n",
    "\n",
    "the LSTM cell looks like regular cell, but it splits in two vectors: $h_{(t)}$ and $c_{(t)}$ (“c” stands for “cell”). You can think of $h_{(t)}$ as the short-term state and $c_{(t)}$ as the long-term state.\n",
    "\n",
    "* The key idea is that the network can learn what to store in the long-term state, what to throw away, and what to read from it.\n",
    "* long-term state $c_{(t–1)}$ goes through forget gate dropping some memories and the add memories. \n",
    "* Then part of long-term memory is added to short term via output gate and all of it sent along to next cell.\n",
    "* the current input vector $x_{(t)}$ and the previous short-term state $h_{(t–1)}$ are fed to four different fully connected layers: \n",
    "1. The main layer that outputs $g_{(t)}$. It analyzes the current inputs $x_{(t)}$ and the previous (short-term) state $h_{(t–1)}$. In has $tanh$ activation function.\n",
    "2. The layers $f_{(t)}$,$i_{(t)}$ and $o_{(t)}$ are gate-controllers with logistic activation function (range 0-1). The output is used in multiplication, so 0 closes the gate, and 1 opens it. <br>\n",
    "    2a. Forget gate $f_{(t)}$ controls which parts of the long-term state should be erased.<br>\n",
    "    2b. Input gate $i_{(t)}$ controls which parts of $g_{(t)}$ should be added to the long-term state. <br>\n",
    "    2c. Output gate $o_{(t)}$ controls which parts of $c_{(t)}$ should be read/output at this time step (both to $h_{(t)}$ and $y_{(t)}$. <br>\n",
    "    \n",
    "\n",
    "LSTM cell recognizes an important input, stores it in the long-term state, preserves/forgets long-term memory. It is very successful at capturing long-term patterns in time series, long texts, audio recordings, and more. "
   ]
  },
  {
   "cell_type": "markdown",
   "metadata": {
    "id": "IBaPc6b5WICZ"
   },
   "source": [
    "$$\\begin{aligned}\n",
    "i_{(t)} &= \\sigma (W_{xi}^T \\cdot x_{(t)} + W_{hi}^T \\cdot h_{(t-1)} + b_i)\\\\\n",
    "f_{(t)} &= \\sigma (W_{xf}^T \\cdot x_{(t)} + W_{hf}^T \\cdot h_{(t-1)} + b_f)\\\\\n",
    "o_{(t)} &= \\sigma (W_{xo}^T \\cdot x_{(t)} + W_{ho}^T \\cdot h_{(t-1)} + b_o)\\\\\n",
    "g_{(t)} &= \\tanh(W_{xg}^T \\cdot x_{(t)} + W_{hg}^T \\cdot h_{(t-1)} + b_g)\\\\\n",
    "c_{(t)} &= f_{(t)} \\otimes c_{(t-1)} + i_{(t)} \\otimes  g_{(t)}\\\\\n",
    "y_{(t)} &= h_{(t)} = o_{(t)}  \\otimes c_{(t)}\\\\\n",
    "\\end{aligned}$$\n",
    "\n",
    "* $W_{xi}^T$, $W_{xf}^T$, $W_{xo}^T$, $W_{xg}^T$ are weight matrices for input vector $x_{(t)}$.\n",
    "* $W_{hi}^T$, $W_{hf}^T$, $W_{ho}^T$, $W_{hg}^T$ are weight matrices for previous short-term state $h_{(t-1)}$. \n",
    "* TensorFlow initializes $b_f$ to a vector full of 1s instead of 0s. This prevents forgetting everything at the beginning of training."
   ]
  },
  {
   "cell_type": "code",
   "execution_count": 140,
   "metadata": {
    "id": "_haZp4ZFDVwo",
    "scrolled": true
   },
   "outputs": [
    {
     "name": "stdout",
     "output_type": "stream",
     "text": [
      "Epoch 1/20\n",
      "219/219 [==============================] - 5s 25ms/step - loss: 0.0760 - last_time_step_mse: 0.0615 - val_loss: 0.0554 - val_last_time_step_mse: 0.0364\n",
      "Epoch 2/20\n",
      "219/219 [==============================] - 5s 22ms/step - loss: 0.0480 - last_time_step_mse: 0.0283 - val_loss: 0.0427 - val_last_time_step_mse: 0.0222\n",
      "Epoch 3/20\n",
      "219/219 [==============================] - 5s 22ms/step - loss: 0.0391 - last_time_step_mse: 0.0181 - val_loss: 0.0367 - val_last_time_step_mse: 0.0157\n",
      "Epoch 4/20\n",
      "219/219 [==============================] - 5s 22ms/step - loss: 0.0350 - last_time_step_mse: 0.0151 - val_loss: 0.0334 - val_last_time_step_mse: 0.0132\n",
      "Epoch 5/20\n",
      "219/219 [==============================] - 5s 22ms/step - loss: 0.0325 - last_time_step_mse: 0.0133 - val_loss: 0.0314 - val_last_time_step_mse: 0.0121\n",
      "Epoch 6/20\n",
      "219/219 [==============================] - 5s 22ms/step - loss: 0.0308 - last_time_step_mse: 0.0122 - val_loss: 0.0298 - val_last_time_step_mse: 0.0112\n",
      "Epoch 7/20\n",
      "219/219 [==============================] - 5s 22ms/step - loss: 0.0297 - last_time_step_mse: 0.0118 - val_loss: 0.0291 - val_last_time_step_mse: 0.0120\n",
      "Epoch 8/20\n",
      "219/219 [==============================] - 5s 23ms/step - loss: 0.0286 - last_time_step_mse: 0.0109 - val_loss: 0.0278 - val_last_time_step_mse: 0.0099\n",
      "Epoch 9/20\n",
      "219/219 [==============================] - 5s 22ms/step - loss: 0.0280 - last_time_step_mse: 0.0108 - val_loss: 0.0278 - val_last_time_step_mse: 0.0113\n",
      "Epoch 10/20\n",
      "219/219 [==============================] - 5s 22ms/step - loss: 0.0273 - last_time_step_mse: 0.0105 - val_loss: 0.0268 - val_last_time_step_mse: 0.0101\n",
      "Epoch 11/20\n",
      "219/219 [==============================] - 5s 22ms/step - loss: 0.0269 - last_time_step_mse: 0.0102 - val_loss: 0.0263 - val_last_time_step_mse: 0.0096\n",
      "Epoch 12/20\n",
      "219/219 [==============================] - 5s 22ms/step - loss: 0.0264 - last_time_step_mse: 0.0101 - val_loss: 0.0263 - val_last_time_step_mse: 0.0105\n",
      "Epoch 13/20\n",
      "219/219 [==============================] - 5s 22ms/step - loss: 0.0259 - last_time_step_mse: 0.0097 - val_loss: 0.0257 - val_last_time_step_mse: 0.0100\n",
      "Epoch 14/20\n",
      "219/219 [==============================] - 5s 22ms/step - loss: 0.0257 - last_time_step_mse: 0.0096 - val_loss: 0.0252 - val_last_time_step_mse: 0.0091\n",
      "Epoch 15/20\n",
      "219/219 [==============================] - 5s 22ms/step - loss: 0.0253 - last_time_step_mse: 0.0095 - val_loss: 0.0251 - val_last_time_step_mse: 0.0092\n",
      "Epoch 16/20\n",
      "219/219 [==============================] - 5s 22ms/step - loss: 0.0251 - last_time_step_mse: 0.0095 - val_loss: 0.0248 - val_last_time_step_mse: 0.0089\n",
      "Epoch 17/20\n",
      "219/219 [==============================] - 5s 22ms/step - loss: 0.0248 - last_time_step_mse: 0.0094 - val_loss: 0.0248 - val_last_time_step_mse: 0.0098\n",
      "Epoch 18/20\n",
      "219/219 [==============================] - 5s 22ms/step - loss: 0.0245 - last_time_step_mse: 0.0093 - val_loss: 0.0246 - val_last_time_step_mse: 0.0091\n",
      "Epoch 19/20\n",
      "219/219 [==============================] - 5s 22ms/step - loss: 0.0242 - last_time_step_mse: 0.0091 - val_loss: 0.0238 - val_last_time_step_mse: 0.0085\n",
      "Epoch 20/20\n",
      "219/219 [==============================] - 5s 22ms/step - loss: 0.0239 - last_time_step_mse: 0.0089 - val_loss: 0.0238 - val_last_time_step_mse: 0.0086\n"
     ]
    }
   ],
   "source": [
    "# LTSM can be used as a building block by Keras like a basic cell. \n",
    "np.random.seed(42)\n",
    "tf.random.set_seed(42)\n",
    "\n",
    "model = keras.models.Sequential([\n",
    "    keras.layers.LSTM(20, return_sequences=True, input_shape=[None, 1]),\n",
    "    keras.layers.LSTM(20, return_sequences=True),\n",
    "    keras.layers.TimeDistributed(keras.layers.Dense(10))\n",
    "])\n",
    "\n",
    "model.compile(loss=\"mse\", optimizer=\"adam\", metrics=[last_time_step_mse])\n",
    "history = model.fit(X_train, Y_train, epochs=20,\n",
    "                    validation_data=(X_valid, Y_valid))"
   ]
  },
  {
   "cell_type": "code",
   "execution_count": 141,
   "metadata": {
    "id": "xH1QvuDSDVwp"
   },
   "outputs": [
    {
     "name": "stdout",
     "output_type": "stream",
     "text": [
      "63/63 [==============================] - 0s 5ms/step - loss: 0.0238 - last_time_step_mse: 0.0086\n"
     ]
    },
    {
     "data": {
      "text/plain": [
       "[0.023788681253790855, 0.00856079813092947]"
      ]
     },
     "execution_count": 141,
     "metadata": {},
     "output_type": "execute_result"
    }
   ],
   "source": [
    "model.evaluate(X_valid, Y_valid)"
   ]
  },
  {
   "cell_type": "code",
   "execution_count": 142,
   "metadata": {
    "id": "rqYtbLzADVwq"
   },
   "outputs": [
    {
     "data": {
      "image/png": "[encoded data removed]",
      "text/plain": [
       "<Figure size 432x288 with 1 Axes>"
      ]
     },
     "metadata": {
      "needs_background": "light"
     },
     "output_type": "display_data"
    }
   ],
   "source": [
    "plot_learning_curves(history.history[\"loss\"], history.history[\"val_loss\"])\n",
    "plt.show()"
   ]
  },
  {
   "cell_type": "code",
   "execution_count": 143,
   "metadata": {
    "id": "vFhx2HoGDVwr"
   },
   "outputs": [],
   "source": [
    "# Let's generate a new random series and test it\n",
    "np.random.seed(43)\n",
    "\n",
    "series = generate_time_series(1, 50 + 10)\n",
    "X_new, Y_new = series[:, :50, :], series[:, 50:, :]\n",
    "Y_pred = model.predict(X_new)[:, -1][..., np.newaxis]"
   ]
  },
  {
   "cell_type": "code",
   "execution_count": 144,
   "metadata": {
    "id": "-PDfkVoeDVws",
    "scrolled": false
   },
   "outputs": [
    {
     "data": {
      "image/png": "[encoded data removed]",
      "text/plain": [
       "<Figure size 432x288 with 1 Axes>"
      ]
     },
     "metadata": {
      "needs_background": "light"
     },
     "output_type": "display_data"
    }
   ],
   "source": [
    "plot_multiple_forecasts(X_new, Y_new, Y_pred)\n",
    "plt.show()"
   ]
  },
  {
   "cell_type": "markdown",
   "metadata": {
    "id": "gjDphPj3DVwt"
   },
   "source": [
    "\n",
    "# GRUs\n",
    "\n",
    "Gated Recurrent Unit (GRU) cell is a simplified version of LTSM cell, which tends to perform as well. \n",
    "\n",
    "![Neuron inner working](images/Figure_15_10.png)\n",
    "\n",
    "\n",
    "* Both state vectors are merged into single vector $h_{(t)}$.\n",
    "* A single gate controller $z_{(t)}$ controls both the forget gate and the input gate. If the gate controller outputs a 1, the forget gate is open (= 1) and the input gate is\n",
    "closed (1 – 1 = 0). If it outputs a 0, the opposite happens. In other words, whenever a memory must be stored, the location where it will be stored is erased first. It is also a common design of LTSM.\n",
    "* There is no output gate; the full state vector is output at every time step. However, there is a new gate controller r(t) that controls which part of the previous state will be shown to the main layer $g_{(t)}$.\n",
    "\n",
    "The equations for GRU are:\n",
    "\n",
    "$$\\begin{aligned}\n",
    "z_{(t)} &= \\sigma (W_{xz}^T \\cdot x_{(t)} + W_{hz}^T \\cdot h_{(t-1)} + b_z)\\\\\n",
    "r_{(t)} &= \\sigma (W_{xr}^T \\cdot x_{(t)} + W_{hr}^T \\cdot h_{(t-1)} + b_f)\\\\\n",
    "g_{(t)} &= \\tanh(W_{xg}^T \\cdot x_{(t)} + W_{hg}^T (r_{(t)} \\otimes  h_{(t-1)} )+ b_g)\\\\\n",
    "h_{(t)} &= z_{(t)} \\otimes h_{(t-1)} + (1 - z_{(t)}) \\otimes  g_{(t)}\\\\\n",
    "\\end{aligned}$$\n"
   ]
  },
  {
   "cell_type": "code",
   "execution_count": 145,
   "metadata": {
    "id": "0755E-u0DVwt"
   },
   "outputs": [
    {
     "name": "stdout",
     "output_type": "stream",
     "text": [
      "Epoch 1/20\n",
      "219/219 [==============================] - 6s 29ms/step - loss: 0.0738 - last_time_step_mse: 0.0655 - val_loss: 0.0538 - val_last_time_step_mse: 0.0450\n",
      "Epoch 2/20\n",
      "219/219 [==============================] - 6s 27ms/step - loss: 0.0476 - last_time_step_mse: 0.0367 - val_loss: 0.0441 - val_last_time_step_mse: 0.0326\n",
      "Epoch 3/20\n",
      "219/219 [==============================] - 6s 27ms/step - loss: 0.0417 - last_time_step_mse: 0.0301 - val_loss: 0.0390 - val_last_time_step_mse: 0.0275\n",
      "Epoch 4/20\n",
      "219/219 [==============================] - 6s 27ms/step - loss: 0.0368 - last_time_step_mse: 0.0243 - val_loss: 0.0339 - val_last_time_step_mse: 0.0202\n",
      "Epoch 5/20\n",
      "219/219 [==============================] - 6s 27ms/step - loss: 0.0326 - last_time_step_mse: 0.0180 - val_loss: 0.0312 - val_last_time_step_mse: 0.0164\n",
      "Epoch 6/20\n",
      "219/219 [==============================] - 6s 27ms/step - loss: 0.0306 - last_time_step_mse: 0.0155 - val_loss: 0.0294 - val_last_time_step_mse: 0.0143\n",
      "Epoch 7/20\n",
      "219/219 [==============================] - 6s 27ms/step - loss: 0.0295 - last_time_step_mse: 0.0145 - val_loss: 0.0300 - val_last_time_step_mse: 0.0162\n",
      "Epoch 8/20\n",
      "219/219 [==============================] - 6s 27ms/step - loss: 0.0283 - last_time_step_mse: 0.0135 - val_loss: 0.0278 - val_last_time_step_mse: 0.0130\n",
      "Epoch 9/20\n",
      "219/219 [==============================] - 6s 27ms/step - loss: 0.0276 - last_time_step_mse: 0.0130 - val_loss: 0.0273 - val_last_time_step_mse: 0.0127\n",
      "Epoch 10/20\n",
      "219/219 [==============================] - 6s 27ms/step - loss: 0.0269 - last_time_step_mse: 0.0125 - val_loss: 0.0264 - val_last_time_step_mse: 0.0121\n",
      "Epoch 11/20\n",
      "219/219 [==============================] - 6s 27ms/step - loss: 0.0265 - last_time_step_mse: 0.0121 - val_loss: 0.0268 - val_last_time_step_mse: 0.0135\n",
      "Epoch 12/20\n",
      "219/219 [==============================] - 6s 26ms/step - loss: 0.0263 - last_time_step_mse: 0.0123 - val_loss: 0.0261 - val_last_time_step_mse: 0.0123\n",
      "Epoch 13/20\n",
      "219/219 [==============================] - 6s 27ms/step - loss: 0.0258 - last_time_step_mse: 0.0116 - val_loss: 0.0254 - val_last_time_step_mse: 0.0116\n",
      "Epoch 14/20\n",
      "219/219 [==============================] - 6s 27ms/step - loss: 0.0256 - last_time_step_mse: 0.0117 - val_loss: 0.0254 - val_last_time_step_mse: 0.0116\n",
      "Epoch 15/20\n",
      "219/219 [==============================] - 6s 27ms/step - loss: 0.0253 - last_time_step_mse: 0.0114 - val_loss: 0.0250 - val_last_time_step_mse: 0.0112\n",
      "Epoch 16/20\n",
      "219/219 [==============================] - 6s 27ms/step - loss: 0.0251 - last_time_step_mse: 0.0114 - val_loss: 0.0250 - val_last_time_step_mse: 0.0114\n",
      "Epoch 17/20\n",
      "219/219 [==============================] - 6s 27ms/step - loss: 0.0248 - last_time_step_mse: 0.0112 - val_loss: 0.0249 - val_last_time_step_mse: 0.0118\n",
      "Epoch 18/20\n",
      "219/219 [==============================] - 6s 27ms/step - loss: 0.0245 - last_time_step_mse: 0.0110 - val_loss: 0.0244 - val_last_time_step_mse: 0.0108\n",
      "Epoch 19/20\n",
      "219/219 [==============================] - 6s 27ms/step - loss: 0.0243 - last_time_step_mse: 0.0108 - val_loss: 0.0240 - val_last_time_step_mse: 0.0105\n",
      "Epoch 20/20\n",
      "219/219 [==============================] - 6s 27ms/step - loss: 0.0240 - last_time_step_mse: 0.0106 - val_loss: 0.0238 - val_last_time_step_mse: 0.0103\n"
     ]
    }
   ],
   "source": [
    "np.random.seed(42)\n",
    "tf.random.set_seed(42)\n",
    "\n",
    "model = keras.models.Sequential([\n",
    "    keras.layers.GRU(20, return_sequences=True, input_shape=[None, 1]),\n",
    "    keras.layers.GRU(20, return_sequences=True),\n",
    "    keras.layers.TimeDistributed(keras.layers.Dense(10))\n",
    "])\n",
    "# MSU of the last step output\n",
    "model.compile(loss=\"mse\", optimizer=\"adam\", metrics=[last_time_step_mse])\n",
    "history = model.fit(X_train, Y_train, epochs=20,\n",
    "                    validation_data=(X_valid, Y_valid))"
   ]
  },
  {
   "cell_type": "code",
   "execution_count": null,
   "metadata": {},
   "outputs": [],
   "source": []
  },
  {
   "cell_type": "code",
   "execution_count": 146,
   "metadata": {
    "id": "jnoVKDBeDVwu"
   },
   "outputs": [
    {
     "name": "stdout",
     "output_type": "stream",
     "text": [
      "63/63 [==============================] - 0s 5ms/step - loss: 0.0238 - last_time_step_mse: 0.0103\n"
     ]
    },
    {
     "data": {
      "text/plain": [
       "[0.023785505443811417, 0.010262809693813324]"
      ]
     },
     "execution_count": 146,
     "metadata": {},
     "output_type": "execute_result"
    }
   ],
   "source": [
    "model.evaluate(X_valid, Y_valid)\n",
    "# In our case performance is identical to LTSM"
   ]
  },
  {
   "cell_type": "code",
   "execution_count": 147,
   "metadata": {
    "id": "Sv4EFPi_DVwv"
   },
   "outputs": [
    {
     "data": {
      "image/png": "[encoded data removed]",
      "text/plain": [
       "<Figure size 432x288 with 1 Axes>"
      ]
     },
     "metadata": {
      "needs_background": "light"
     },
     "output_type": "display_data"
    }
   ],
   "source": [
    "plot_learning_curves(history.history[\"loss\"], history.history[\"val_loss\"])\n",
    "plt.show()"
   ]
  },
  {
   "cell_type": "code",
   "execution_count": 148,
   "metadata": {
    "id": "hX5HLkKlDVww"
   },
   "outputs": [
    {
     "name": "stdout",
     "output_type": "stream",
     "text": [
      "WARNING:tensorflow:5 out of the last 508 calls to <function Model.make_predict_function.<locals>.predict_function at 0x7faa99afbca0> triggered tf.function retracing. Tracing is expensive and the excessive number of tracings could be due to (1) creating @tf.function repeatedly in a loop, (2) passing tensors with different shapes, (3) passing Python objects instead of tensors. For (1), please define your @tf.function outside of the loop. For (2), @tf.function has experimental_relax_shapes=True option that relaxes argument shapes that can avoid unnecessary retracing. For (3), please refer to https://www.tensorflow.org/tutorials/customization/performance#python_or_tensor_args and https://www.tensorflow.org/api_docs/python/tf/function for  more details.\n"
     ]
    }
   ],
   "source": [
    "np.random.seed(43)\n",
    "# Plot prediction\n",
    "series = generate_time_series(1, 50 + 10)\n",
    "X_new, Y_new = series[:, :50, :], series[:, 50:, :]\n",
    "Y_pred = model.predict(X_new)[:, -1][..., np.newaxis]"
   ]
  },
  {
   "cell_type": "code",
   "execution_count": 149,
   "metadata": {
    "id": "5NXzppQMDVwx",
    "scrolled": true
   },
   "outputs": [
    {
     "data": {
      "image/png": "[encoded data removed]",
      "text/plain": [
       "<Figure size 432x288 with 1 Axes>"
      ]
     },
     "metadata": {
      "needs_background": "light"
     },
     "output_type": "display_data"
    }
   ],
   "source": [
    "plot_multiple_forecasts(X_new, Y_new, Y_pred)\n",
    "plt.show()"
   ]
  },
  {
   "cell_type": "markdown",
   "metadata": {
    "id": "aBa60504nLfv"
   },
   "source": [
    "\n",
    "LSTM and GRU cells are one of the main reasons behind the success of RNNs. Yet\n",
    "while they can tackle much longer sequences than simple RNNs, they still have a\n",
    "fairly limited short-term memory, and they have a hard time learning long-term patterns\n",
    "in sequences of 100 time steps or more, such as audio samples, long time series,\n",
    "or long sentences. One way to solve this is to shorten the input sequences, for example\n",
    "using 1D convolutional layers."
   ]
  },
  {
   "cell_type": "markdown",
   "metadata": {
    "id": "xCCX29pCDVwy"
   },
   "source": [
    "## Using One-Dimensional Convolutional Layers to Process Sequences\n",
    "\n",
    "\n",
    "In Chapter 14, talks a lot about 2D convolutional layers by skiding kernels (filters) across the image. \n",
    "\n",
    ". Here we will apply a 1D, basuically we will add to the model information about neighboring steps. \n",
    "* A 1D convolutional layer slides several kernels across a\n",
    "sequence, producing a 1D feature map per kernel.\n",
    "* Each kernel will learn to detect a\n",
    "single very short sequential pattern (no longer than the kernel size). Kernel = 10 will produce 10 steps processed in the same time. \n",
    "\n",
    "\n",
    "stride - number of steps we shift our filters each time. We use filters = 4, strides = 2. So the first four steps will cover: [1,2,3,4] -> [3,4,5,6]. This effectively downsamples the targets. \n",
    "\n",
    "\n"
   ]
  },
  {
   "cell_type": "markdown",
   "metadata": {
    "id": "crHJhqQRDVwy"
   },
   "source": [
    "```\n",
    "1D conv layer with kernel size 4, stride 2, VALID padding:\n",
    "\n",
    "              |-----2-----|     |-----5---...------|     |-----23----|\n",
    "        |-----1-----|     |-----4-----|   ...      |-----22----|\n",
    "  |-----0----|      |-----3-----|     |---...|-----21----|\n",
    "X: 0  1  2  3  4  5  6  7  8  9  10 11 12 ... 42 43 44 45 46 47 48 49\n",
    "Y: 1  2  3  4  5  6  7  8  9  10 11 12 13 ... 43 44 45 46 47 48 49 50\n",
    "  /10 11 12 13 14 15 16 17 18 19 20 21 22 ... 52 53 54 55 56 57 58 59\n",
    "\n",
    "Output:\n",
    "\n",
    "X:     0/3   2/5   4/7   6/9   8/11 10/13 .../43 42/45 44/47 46/49\n",
    "Y:     4/13  6/15  8/17 10/19 12/21 14/23 .../53 46/55 48/57 50/59\n",
    "```"
   ]
  },
  {
   "cell_type": "code",
   "execution_count": 150,
   "metadata": {
    "colab": {
     "base_uri": "https://localhost:8080/",
     "height": 717
    },
    "id": "XVgwN4aeDVwy",
    "outputId": "8d443168-f705-4ad6-9c63-206de21444e6"
   },
   "outputs": [
    {
     "name": "stdout",
     "output_type": "stream",
     "text": [
      "Epoch 1/20\n",
      "219/219 [==============================] - 4s 17ms/step - loss: 0.0681 - last_time_step_mse: 0.0601 - val_loss: 0.0477 - val_last_time_step_mse: 0.0396\n",
      "Epoch 2/20\n",
      "219/219 [==============================] - 3s 15ms/step - loss: 0.0414 - last_time_step_mse: 0.0340 - val_loss: 0.0367 - val_last_time_step_mse: 0.0285\n",
      "Epoch 3/20\n",
      "219/219 [==============================] - 3s 15ms/step - loss: 0.0338 - last_time_step_mse: 0.0257 - val_loss: 0.0307 - val_last_time_step_mse: 0.0218\n",
      "Epoch 4/20\n",
      "219/219 [==============================] - 3s 15ms/step - loss: 0.0282 - last_time_step_mse: 0.0184 - val_loss: 0.0259 - val_last_time_step_mse: 0.0152\n",
      "Epoch 5/20\n",
      "219/219 [==============================] - 3s 15ms/step - loss: 0.0249 - last_time_step_mse: 0.0143 - val_loss: 0.0246 - val_last_time_step_mse: 0.0141\n",
      "Epoch 6/20\n",
      "219/219 [==============================] - 3s 15ms/step - loss: 0.0234 - last_time_step_mse: 0.0125 - val_loss: 0.0227 - val_last_time_step_mse: 0.0115\n",
      "Epoch 7/20\n",
      "219/219 [==============================] - 3s 15ms/step - loss: 0.0226 - last_time_step_mse: 0.0117 - val_loss: 0.0225 - val_last_time_step_mse: 0.0116\n",
      "Epoch 8/20\n",
      "219/219 [==============================] - 3s 15ms/step - loss: 0.0220 - last_time_step_mse: 0.0111 - val_loss: 0.0216 - val_last_time_step_mse: 0.0105\n",
      "Epoch 9/20\n",
      "219/219 [==============================] - 3s 15ms/step - loss: 0.0216 - last_time_step_mse: 0.0108 - val_loss: 0.0217 - val_last_time_step_mse: 0.0109\n",
      "Epoch 10/20\n",
      "219/219 [==============================] - 3s 15ms/step - loss: 0.0213 - last_time_step_mse: 0.0106 - val_loss: 0.0210 - val_last_time_step_mse: 0.0102\n",
      "Epoch 11/20\n",
      "219/219 [==============================] - 3s 15ms/step - loss: 0.0210 - last_time_step_mse: 0.0102 - val_loss: 0.0208 - val_last_time_step_mse: 0.0100\n",
      "Epoch 12/20\n",
      "219/219 [==============================] - 3s 15ms/step - loss: 0.0208 - last_time_step_mse: 0.0102 - val_loss: 0.0208 - val_last_time_step_mse: 0.0102\n",
      "Epoch 13/20\n",
      "219/219 [==============================] - 3s 15ms/step - loss: 0.0205 - last_time_step_mse: 0.0098 - val_loss: 0.0206 - val_last_time_step_mse: 0.0101\n",
      "Epoch 14/20\n",
      "219/219 [==============================] - 3s 15ms/step - loss: 0.0204 - last_time_step_mse: 0.0099 - val_loss: 0.0204 - val_last_time_step_mse: 0.0099\n",
      "Epoch 15/20\n",
      "219/219 [==============================] - 3s 15ms/step - loss: 0.0202 - last_time_step_mse: 0.0097 - val_loss: 0.0199 - val_last_time_step_mse: 0.0093\n",
      "Epoch 16/20\n",
      "219/219 [==============================] - 3s 15ms/step - loss: 0.0200 - last_time_step_mse: 0.0097 - val_loss: 0.0201 - val_last_time_step_mse: 0.0095\n",
      "Epoch 17/20\n",
      "219/219 [==============================] - 3s 15ms/step - loss: 0.0196 - last_time_step_mse: 0.0093 - val_loss: 0.0197 - val_last_time_step_mse: 0.0091\n",
      "Epoch 18/20\n",
      "219/219 [==============================] - 3s 15ms/step - loss: 0.0194 - last_time_step_mse: 0.0090 - val_loss: 0.0192 - val_last_time_step_mse: 0.0086\n",
      "Epoch 19/20\n",
      "219/219 [==============================] - 3s 15ms/step - loss: 0.0190 - last_time_step_mse: 0.0087 - val_loss: 0.0188 - val_last_time_step_mse: 0.0084\n",
      "Epoch 20/20\n",
      "219/219 [==============================] - 3s 15ms/step - loss: 0.0186 - last_time_step_mse: 0.0083 - val_loss: 0.0184 - val_last_time_step_mse: 0.0080\n"
     ]
    }
   ],
   "source": [
    "np.random.seed(42)\n",
    "tf.random.set_seed(42)\n",
    "\n",
    "model = keras.models.Sequential([\n",
    "    keras.layers.Conv1D(filters=20, kernel_size=4, strides=2, padding=\"valid\",\n",
    "                        input_shape=[None, 1]),\n",
    "    keras.layers.GRU(20, return_sequences=True),\n",
    "    keras.layers.GRU(20, return_sequences=True),\n",
    "    keras.layers.TimeDistributed(keras.layers.Dense(10))\n",
    "])\n",
    "\n",
    "model.compile(loss=\"mse\", optimizer=\"adam\", metrics=[last_time_step_mse])\n",
    "history = model.fit(X_train, Y_train[:, 3::2], epochs=20,\n",
    "                    # We sample steps starting form step 3 taking every other step, so instead of 24 steps we use \n",
    "                    #24 targets,\n",
    "                    # through the whole x is used\n",
    "                    validation_data=(X_valid, Y_valid[:, 3::2]))"
   ]
  },
  {
   "cell_type": "code",
   "execution_count": 151,
   "metadata": {
    "colab": {
     "base_uri": "https://localhost:8080/",
     "height": 34
    },
    "id": "N9SSOxbxwa9S",
    "outputId": "e591538e-d1db-43ce-e2ed-bbe243171c46"
   },
   "outputs": [
    {
     "data": {
      "text/plain": [
       "(7000, 24, 10)"
      ]
     },
     "execution_count": 151,
     "metadata": {},
     "output_type": "execute_result"
    }
   ],
   "source": [
    "Y_train[:,3::2].shape"
   ]
  },
  {
   "cell_type": "code",
   "execution_count": 152,
   "metadata": {
    "colab": {
     "base_uri": "https://localhost:8080/",
     "height": 34
    },
    "id": "eqG6WWuUwmEw",
    "outputId": "d6362500-f356-4240-9861-2dad5f347052"
   },
   "outputs": [
    {
     "data": {
      "text/plain": [
       "(7000, 50, 10)"
      ]
     },
     "execution_count": 152,
     "metadata": {},
     "output_type": "execute_result"
    }
   ],
   "source": [
    "Y_train.shape"
   ]
  },
  {
   "cell_type": "markdown",
   "metadata": {
    "id": "NmSGcvZvDVwz"
   },
   "source": [
    "## WaveNet\n",
    "\n",
    "\n",
    "![WaveNet](images/WaveNet.png)\n",
    "\n",
    "\n",
    "Is the model of stacked 1D convolutional layers, doubling the\n",
    "dilation rate (how spread apart each neuron’s inputs are) at every layer: the first convolutional layer gets a glimpse of just two time steps at a time, while the next one sees four time steps (its receptive field is four time steps long), the next one sees eight time steps, and so on. This way, the lower layers learn short-term patterns, while the higher layers learn long-term patterns. "
   ]
  },
  {
   "cell_type": "markdown",
   "metadata": {
    "id": "HxRwjg7GDVwz"
   },
   "source": [
    "```\n",
    "C2  /\\ /\\ /\\ /\\ /\\ /\\ /\\ /\\ /\\ /\\ /\\ /\\ /\\.../\\ /\\ /\\ /\\ /\\ /\\\n",
    "   \\  /  \\  /  \\  /  \\  /  \\  /  \\  /  \\       /  \\  /  \\  /  \\\n",
    "     /    \\      /    \\      /    \\                 /    \\\n",
    "C1  /\\ /\\ /\\ /\\ /\\ /\\ /\\ /\\ /\\ /\\ /\\  /\\ /.../\\ /\\ /\\ /\\ /\\ /\\ /\\\n",
    "X: 0  1  2  3  4  5  6  7  8  9  10 11 12 ... 43 44 45 46 47 48 49\n",
    "Y: 1  2  3  4  5  6  7  8  9  10 11 12 13 ... 44 45 46 47 48 49 50\n",
    "  /10 11 12 13 14 15 16 17 18 19 20 21 22 ... 53 54 55 56 57 58 59\n",
    "```"
   ]
  },
  {
   "cell_type": "code",
   "execution_count": 153,
   "metadata": {
    "colab": {
     "base_uri": "https://localhost:8080/",
     "height": 717
    },
    "id": "k0rwc0NNDVw0",
    "outputId": "5a03b85a-f2ea-4809-e9c5-ee1d98c6c176"
   },
   "outputs": [
    {
     "name": "stdout",
     "output_type": "stream",
     "text": [
      "Epoch 1/20\n",
      "219/219 [==============================] - 2s 7ms/step - loss: 0.0669 - last_time_step_mse: 0.0543 - val_loss: 0.0365 - val_last_time_step_mse: 0.0231\n",
      "Epoch 2/20\n",
      "219/219 [==============================] - 1s 6ms/step - loss: 0.0324 - last_time_step_mse: 0.0193 - val_loss: 0.0294 - val_last_time_step_mse: 0.0166\n",
      "Epoch 3/20\n",
      "219/219 [==============================] - 1s 6ms/step - loss: 0.0283 - last_time_step_mse: 0.0156 - val_loss: 0.0269 - val_last_time_step_mse: 0.0145\n",
      "Epoch 4/20\n",
      "219/219 [==============================] - 1s 6ms/step - loss: 0.0261 - last_time_step_mse: 0.0136 - val_loss: 0.0254 - val_last_time_step_mse: 0.0130\n",
      "Epoch 5/20\n",
      "219/219 [==============================] - 1s 6ms/step - loss: 0.0248 - last_time_step_mse: 0.0124 - val_loss: 0.0244 - val_last_time_step_mse: 0.0122\n",
      "Epoch 6/20\n",
      "219/219 [==============================] - 1s 6ms/step - loss: 0.0240 - last_time_step_mse: 0.0117 - val_loss: 0.0233 - val_last_time_step_mse: 0.0108\n",
      "Epoch 7/20\n",
      "219/219 [==============================] - 1s 6ms/step - loss: 0.0234 - last_time_step_mse: 0.0112 - val_loss: 0.0230 - val_last_time_step_mse: 0.0109\n",
      "Epoch 8/20\n",
      "219/219 [==============================] - 1s 6ms/step - loss: 0.0227 - last_time_step_mse: 0.0106 - val_loss: 0.0228 - val_last_time_step_mse: 0.0105\n",
      "Epoch 9/20\n",
      "219/219 [==============================] - 1s 6ms/step - loss: 0.0223 - last_time_step_mse: 0.0102 - val_loss: 0.0225 - val_last_time_step_mse: 0.0107\n",
      "Epoch 10/20\n",
      "219/219 [==============================] - 1s 6ms/step - loss: 0.0220 - last_time_step_mse: 0.0101 - val_loss: 0.0214 - val_last_time_step_mse: 0.0092\n",
      "Epoch 11/20\n",
      "219/219 [==============================] - 1s 6ms/step - loss: 0.0214 - last_time_step_mse: 0.0094 - val_loss: 0.0211 - val_last_time_step_mse: 0.0091\n",
      "Epoch 12/20\n",
      "219/219 [==============================] - 1s 6ms/step - loss: 0.0211 - last_time_step_mse: 0.0091 - val_loss: 0.0214 - val_last_time_step_mse: 0.0099\n",
      "Epoch 13/20\n",
      "219/219 [==============================] - 1s 6ms/step - loss: 0.0208 - last_time_step_mse: 0.0089 - val_loss: 0.0204 - val_last_time_step_mse: 0.0084\n",
      "Epoch 14/20\n",
      "219/219 [==============================] - 1s 6ms/step - loss: 0.0204 - last_time_step_mse: 0.0086 - val_loss: 0.0202 - val_last_time_step_mse: 0.0084\n",
      "Epoch 15/20\n",
      "219/219 [==============================] - 1s 6ms/step - loss: 0.0202 - last_time_step_mse: 0.0083 - val_loss: 0.0198 - val_last_time_step_mse: 0.0079\n",
      "Epoch 16/20\n",
      "219/219 [==============================] - 1s 6ms/step - loss: 0.0200 - last_time_step_mse: 0.0083 - val_loss: 0.0197 - val_last_time_step_mse: 0.0080\n",
      "Epoch 17/20\n",
      "219/219 [==============================] - 1s 6ms/step - loss: 0.0197 - last_time_step_mse: 0.0079 - val_loss: 0.0194 - val_last_time_step_mse: 0.0077\n",
      "Epoch 18/20\n",
      "219/219 [==============================] - 1s 6ms/step - loss: 0.0194 - last_time_step_mse: 0.0075 - val_loss: 0.0192 - val_last_time_step_mse: 0.0076\n",
      "Epoch 19/20\n",
      "219/219 [==============================] - 1s 6ms/step - loss: 0.0193 - last_time_step_mse: 0.0075 - val_loss: 0.0188 - val_last_time_step_mse: 0.0072\n",
      "Epoch 20/20\n",
      "219/219 [==============================] - 1s 6ms/step - loss: 0.0191 - last_time_step_mse: 0.0074 - val_loss: 0.0188 - val_last_time_step_mse: 0.0072\n"
     ]
    }
   ],
   "source": [
    "np.random.seed(42)\n",
    "tf.random.set_seed(42)\n",
    "\n",
    "model = keras.models.Sequential()\n",
    "# First is the input layers\n",
    "model.add(keras.layers.InputLayer(input_shape=[None, 1]))\n",
    "for rate in (1, 2, 4, 8) * 2:\n",
    "# next is the convolutional layer, the padding=\"casual\" ensures that there is no peeking into the future\n",
    "    model.add(keras.layers.Conv1D(filters=20, kernel_size=2, padding=\"causal\",\n",
    "                                  activation=\"relu\", dilation_rate=rate))\n",
    "# Final layers is convolutional with 10 filters predicting 10 steps \n",
    "model.add(keras.layers.Conv1D(filters=10, kernel_size=1))\n",
    "model.compile(loss=\"mse\", optimizer=\"adam\", metrics=[last_time_step_mse])\n",
    "history = model.fit(X_train, Y_train, epochs=20,\n",
    "                    validation_data=(X_valid, Y_valid))"
   ]
  },
  {
   "cell_type": "markdown",
   "metadata": {
    "id": "NLM_HOFWDVw4"
   },
   "source": [
    "In this chapter we explored the fundamentals of RNNs and used them to process sequences (namely, time series). In the process we also looked at other ways to process sequences, including CNNs. In the next chapter we will use RNNs for Natural Language Processing, and we will learn more about RNNs (bidirectional RNNs, stateful vs stateless RNNs, Encoder–Decoders, and Attention-augmented Encoder-Decoders). We will also look at the Transformer, an Attention-only architecture."
   ]
  },
  {
   "cell_type": "markdown",
   "metadata": {},
   "source": [
    "Now let's try to predict stock market :)"
   ]
  },
  {
   "cell_type": "code",
   "execution_count": 213,
   "metadata": {
    "colab": {
     "base_uri": "https://localhost:8080/",
     "height": 595
    },
    "id": "lEQ_JUh8ZdEt",
    "outputId": "2feb7e3f-9f11-4fb7-822c-e0dd879239f8"
   },
   "outputs": [
    {
     "name": "stdout",
     "output_type": "stream",
     "text": [
      "Requirement already satisfied: pandas_datareader in /Users/ir177/opt/anaconda3/lib/python3.8/site-packages (0.9.0)\n",
      "Requirement already satisfied: pandas>=0.23 in /Users/ir177/opt/anaconda3/lib/python3.8/site-packages (from pandas_datareader) (1.0.5)\n",
      "Requirement already satisfied: lxml in /Users/ir177/opt/anaconda3/lib/python3.8/site-packages (from pandas_datareader) (4.5.2)\n",
      "Requirement already satisfied: requests>=2.19.0 in /Users/ir177/opt/anaconda3/lib/python3.8/site-packages (from pandas_datareader) (2.24.0)\n",
      "Requirement already satisfied: pytz>=2017.2 in /Users/ir177/opt/anaconda3/lib/python3.8/site-packages (from pandas>=0.23->pandas_datareader) (2020.1)\n",
      "Requirement already satisfied: numpy>=1.13.3 in /Users/ir177/opt/anaconda3/lib/python3.8/site-packages (from pandas>=0.23->pandas_datareader) (1.18.5)\n",
      "Requirement already satisfied: python-dateutil>=2.6.1 in /Users/ir177/opt/anaconda3/lib/python3.8/site-packages (from pandas>=0.23->pandas_datareader) (2.8.1)\n",
      "Requirement already satisfied: urllib3!=1.25.0,!=1.25.1,<1.26,>=1.21.1 in /Users/ir177/opt/anaconda3/lib/python3.8/site-packages (from requests>=2.19.0->pandas_datareader) (1.25.9)\n",
      "Requirement already satisfied: chardet<4,>=3.0.2 in /Users/ir177/opt/anaconda3/lib/python3.8/site-packages (from requests>=2.19.0->pandas_datareader) (3.0.4)\n",
      "Requirement already satisfied: idna<3,>=2.5 in /Users/ir177/opt/anaconda3/lib/python3.8/site-packages (from requests>=2.19.0->pandas_datareader) (2.10)\n",
      "Requirement already satisfied: certifi>=2017.4.17 in /Users/ir177/opt/anaconda3/lib/python3.8/site-packages (from requests>=2.19.0->pandas_datareader) (2020.6.20)\n",
      "Requirement already satisfied: six>=1.5 in /Users/ir177/opt/anaconda3/lib/python3.8/site-packages (from python-dateutil>=2.6.1->pandas>=0.23->pandas_datareader) (1.15.0)\n",
      "Requirement already up-to-date: yfinance in /Users/ir177/opt/anaconda3/lib/python3.8/site-packages (0.1.54)\n",
      "Requirement already satisfied, skipping upgrade: pandas>=0.24 in /Users/ir177/opt/anaconda3/lib/python3.8/site-packages (from yfinance) (1.0.5)\n",
      "Requirement already satisfied, skipping upgrade: multitasking>=0.0.7 in /Users/ir177/opt/anaconda3/lib/python3.8/site-packages (from yfinance) (0.0.9)\n",
      "Requirement already satisfied, skipping upgrade: numpy>=1.15 in /Users/ir177/opt/anaconda3/lib/python3.8/site-packages (from yfinance) (1.18.5)\n",
      "Requirement already satisfied, skipping upgrade: requests>=2.20 in /Users/ir177/opt/anaconda3/lib/python3.8/site-packages (from yfinance) (2.24.0)\n",
      "Requirement already satisfied, skipping upgrade: python-dateutil>=2.6.1 in /Users/ir177/opt/anaconda3/lib/python3.8/site-packages (from pandas>=0.24->yfinance) (2.8.1)\n",
      "Requirement already satisfied, skipping upgrade: pytz>=2017.2 in /Users/ir177/opt/anaconda3/lib/python3.8/site-packages (from pandas>=0.24->yfinance) (2020.1)\n",
      "Requirement already satisfied, skipping upgrade: certifi>=2017.4.17 in /Users/ir177/opt/anaconda3/lib/python3.8/site-packages (from requests>=2.20->yfinance) (2020.6.20)\n",
      "Requirement already satisfied, skipping upgrade: idna<3,>=2.5 in /Users/ir177/opt/anaconda3/lib/python3.8/site-packages (from requests>=2.20->yfinance) (2.10)\n",
      "Requirement already satisfied, skipping upgrade: urllib3!=1.25.0,!=1.25.1,<1.26,>=1.21.1 in /Users/ir177/opt/anaconda3/lib/python3.8/site-packages (from requests>=2.20->yfinance) (1.25.9)\n",
      "Requirement already satisfied, skipping upgrade: chardet<4,>=3.0.2 in /Users/ir177/opt/anaconda3/lib/python3.8/site-packages (from requests>=2.20->yfinance) (3.0.4)\n",
      "Requirement already satisfied, skipping upgrade: six>=1.5 in /Users/ir177/opt/anaconda3/lib/python3.8/site-packages (from python-dateutil>=2.6.1->pandas>=0.24->yfinance) (1.15.0)\n"
     ]
    }
   ],
   "source": [
    "!pip install pandas_datareader\n",
    "!pip install yfinance --upgrade --no-cache-dir\n",
    "\n",
    "#code reference:\n",
    "# https://github.com/robertmartin8/MachineLearningStocks/blob/master/download_historical_prices.py\n",
    "import os\n",
    "from pandas_datareader import data as pdr\n",
    "import pandas as pd\n",
    "import yfinance as yf\n",
    "\n",
    "yf.pdr_override()\n",
    "\n",
    "START_DATE = \"2003-08-01\"\n",
    "END_DATE = \"2015-01-01\"\n",
    "\n",
    "# Function to load stock market data\n",
    "def build_stock_dataset(ticker_list, start=START_DATE, end=END_DATE):\n",
    "    \"\"\"\n",
    "    Creates the dataset containing all stock prices\n",
    "    :returns: stock_prices.csv\n",
    "    \"\"\"\n",
    "\n",
    "    # Get all Adjusted Close prices for all the tickers in our list,\n",
    "    # between START_DATE and END_DATE\n",
    "    all_data = pdr.get_data_yahoo(ticker_list, start, end)\n",
    "    stock_data = all_data[\"Adj Close\"]\n",
    "\n",
    "    # Remove any columns that hold no data, and print their tickers.\n",
    "    stock_data.dropna(how=\"all\", axis=1, inplace=True)\n",
    "    missing_tickers = [\n",
    "        ticker for ticker in ticker_list if ticker.upper() not in stock_data.columns\n",
    "    ]\n",
    "    print(f\"{len(missing_tickers)} tickers are missing: \\n {missing_tickers} \")\n",
    "    # If there are only some missing datapoints, forward fill.\n",
    "    stock_data.ffill(inplace=True)\n",
    "    return stock_data\n",
    "\n"
   ]
  },
  {
   "cell_type": "markdown",
   "metadata": {
    "id": "bJaauuhTg-eq"
   },
   "source": []
  },
  {
   "cell_type": "code",
   "execution_count": 227,
   "metadata": {
    "colab": {
     "base_uri": "https://localhost:8080/",
     "height": 221
    },
    "id": "G0xN9mAGg_Ct",
    "outputId": "ec92aab6-ebb4-402b-9319-9eb3948b7b21",
    "scrolled": true
   },
   "outputs": [
    {
     "name": "stdout",
     "output_type": "stream",
     "text": [
      "[*********************100%***********************]  7 of 7 completed\n",
      "0 tickers are missing: \n",
      " [] \n"
     ]
    },
    {
     "name": "stderr",
     "output_type": "stream",
     "text": [
      "<ipython-input-213-f8fbff334d7e>:29: SettingWithCopyWarning: \n",
      "A value is trying to be set on a copy of a slice from a DataFrame\n",
      "\n",
      "See the caveats in the documentation: https://pandas.pydata.org/pandas-docs/stable/user_guide/indexing.html#returning-a-view-versus-a-copy\n",
      "  stock_data.dropna(how=\"all\", axis=1, inplace=True)\n"
     ]
    }
   ],
   "source": [
    "START_DATE = \"2018-01-01\"\n",
    "END_DATE = \"2020-01-01\"\n",
    "ticker_list = ['AAPL', 'AMZN', 'GOOGL', 'MSFT', 'INTC', 'HPQ', 'CRM']\n",
    "df = build_stock_dataset(ticker_list, start=START_DATE, end=END_DATE)"
   ]
  },
  {
   "cell_type": "code",
   "execution_count": 237,
   "metadata": {
    "id": "4W5gz47ob834"
   },
   "outputs": [],
   "source": [
    "# prepare forecasting data\n",
    "from datetime import timedelta\n",
    "from datetime import date\n",
    "from datetime import datetime\n",
    "\n",
    "#x = datetime.strptime('2019-07-01', \"%Y-%m-%d\")  + timedelta(days = 2)\n",
    "\n",
    "y_valid = df.loc['2019-07-01':,'INTC'].to_numpy()\n",
    "y_train = df.loc[:'2019-07-01','INTC'].to_numpy()\n",
    "X_valid = df.loc['2019-07-01':,].to_numpy()\n",
    "X_train = df.loc[:'2019-07-01':,].to_numpy()\n"
   ]
  },
  {
   "cell_type": "code",
   "execution_count": null,
   "metadata": {},
   "outputs": [],
   "source": []
  },
  {
   "cell_type": "code",
   "execution_count": 238,
   "metadata": {
    "colab": {
     "base_uri": "https://localhost:8080/",
     "height": 697
    },
    "id": "4T8dNfrEhZDM",
    "outputId": "c0c622c0-196c-409e-a9b3-7a815828bb70"
   },
   "outputs": [],
   "source": [
    "# Randomly select 10 days\n",
    "\n",
    "\n",
    "def get_batches(n_batches, X, y, window, duration):\n",
    "    # get one batch\n",
    "  def get_batch(X, y, window, duration):\n",
    "    # window is the number of past days you observe and duration how long you hold the stock\n",
    "    timedif = window + duration \n",
    "    # pick a random past date to start a batch\n",
    "    rnd_ind =np.random.choice(np.arange(y[: -timedif].size))\n",
    "    # The space of Y draw from \n",
    "    y_rest = y[rnd_ind : rnd_ind + timedif]\n",
    "    # Y vector for each day in the window we observe Y's equal to stock holding duration\n",
    "    y_dur = np.empty([window, duration])\n",
    "    # Generate Y's for each of the window: If we hold stock for 10 days and observe 50 days of the past:\n",
    "    # For each of the 50 days we have 10 future daily observations\n",
    "    for t in range(0,window):\n",
    "      y_dur[t] = y_rest[ t : t + duration]\n",
    "    y_sample = y_dur\n",
    "    X_sample = X[rnd_ind : rnd_ind + window]\n",
    "    # Return samples\n",
    "    return X_sample, y_sample \n",
    "# create shells for y and X for many bactches\n",
    "  yb = np.empty([n_batches,  window, duration ])\n",
    "  Xb = np.empty([n_batches, window, 7])\n",
    "# add batches step by step\n",
    "  for i in range(0, n_batches):\n",
    "    X_i, y_i = get_batch(X, y, window, duration)\n",
    "    yb[i]= y_i\n",
    "    Xb[i] = X_i\n",
    "  return Xb, yb\n",
    "\n",
    "# get 5000 batches for training  \n",
    "X_sample_tr, y_sample_tr = get_batches(5000, X_train, y_train, 30, 10) \n",
    "# get 5000 batches for validation\n",
    "X_sample_val, y_sample_val  = get_batches(5000, X_valid, y_valid, 30, 10) \n",
    "\n",
    "\n"
   ]
  },
  {
   "cell_type": "code",
   "execution_count": 242,
   "metadata": {},
   "outputs": [
    {
     "name": "stdout",
     "output_type": "stream",
     "text": [
      "Epoch 1/2\n",
      "157/157 [==============================] - 42s 265ms/step - loss: 115.8291 - last_time_step_mse: 116.5407 - val_loss: 29.5156 - val_last_time_step_mse: 42.9589\n",
      "Epoch 2/2\n",
      "157/157 [==============================] - 39s 251ms/step - loss: 12.0228 - last_time_step_mse: 11.5297 - val_loss: 30.2177 - val_last_time_step_mse: 43.9555\n"
     ]
    }
   ],
   "source": [
    "# Import layer normilized LSTM\n",
    "from tensorflow_addons.rnn.layer_norm_lstm_cell import LayerNormLSTMCell as LSTM_norm\n",
    "\n",
    "\n",
    "\n",
    "\n",
    "\n",
    "# Keras model [250,150,50] RNN with Layer Norm LSTM cells\n",
    "model = keras.models.Sequential([\n",
    "    # Each input observation has 7 stocks\n",
    "    keras.layers.RNN(LSTM_norm(250, input_shape=(None,7)), return_sequences= True),\n",
    "    keras.layers.RNN(LSTM_norm(150), return_sequences= True),\n",
    "    keras.layers.RNN(LSTM_norm(50), return_sequences= True),\n",
    "    keras.layers.TimeDistributed(keras.layers.Dense(10))\n",
    "])\n",
    "# define MSE for the last step\n",
    "def last_time_step_mse(Y_true, Y_pred):\n",
    "    return keras.metrics.mean_squared_error(Y_true[:, -1], Y_pred[:, -1])\n",
    "\n",
    "\n",
    "lr_schedule = keras.optimizers.schedules.ExponentialDecay(\n",
    "    initial_learning_rate=1e-1,\n",
    "    decay_steps=10000,\n",
    "    decay_rate=0.2)\n",
    "opt = keras.optimizers.Adam(learning_rate=lr_schedule)\n",
    "\n",
    "model.compile(loss=\"mse\", optimizer=opt, metrics=[last_time_step_mse])\n",
    "history = model.fit(X_sample_tr, y_sample_tr, epochs=2,\n",
    "                    validation_data=(X_sample_val, y_sample_val))\n"
   ]
  },
  {
   "cell_type": "code",
   "execution_count": 252,
   "metadata": {
    "colab": {
     "base_uri": "https://localhost:8080/",
     "height": 293
    },
    "id": "DvFmxQDLnBgx",
    "outputId": "2416cfce-862a-4e2f-952c-76fc6d9e6aae"
   },
   "outputs": [
    {
     "data": {
      "image/png": "[encoded data removed]",
      "text/plain": [
       "<Figure size 432x288 with 1 Axes>"
      ]
     },
     "metadata": {
      "needs_background": "light"
     },
     "output_type": "display_data"
    }
   ],
   "source": [
    "# Plot random date training forecast\n",
    "n_steps = 30\n",
    "ahead = 10\n",
    "y_pred = model.predict(X_sample_tr)\n",
    "def plot_multiple_forecasts(X, Y, Y_pred):\n",
    "    n_steps = X.shape[1]\n",
    "    ahead = Y.shape[1]\n",
    "    n_steps = 30\n",
    "    ahead = 10\n",
    "    # 5 is the number of Intell\n",
    "    plot_series(X[0, :, 5])\n",
    "    plt.plot(np.arange(n_steps, n_steps + ahead), Y[0, 29, :], \"ro-\", label=\"Actual\")\n",
    "    plt.plot(np.arange(n_steps, n_steps + ahead), Y_pred[0, 29, :], \"bx-\", label=\"Forecast\", markersize=10)\n",
    "    plt.axis([0, n_steps + ahead, 40, 60])\n",
    "    plt.legend(fontsize=14)\n",
    "\n",
    "plot_multiple_forecasts(X_sample_tr, y_sample_tr, y_pred)"
   ]
  },
  {
   "cell_type": "code",
   "execution_count": 251,
   "metadata": {},
   "outputs": [
    {
     "data": {
      "text/plain": [
       "array([47.00125122, 46.4173851 , 45.05188751, 46.12545013, 46.85057449,\n",
       "       47.75462341, 48.32907867, 47.78287888, 49.14836884, 48.51742172,\n",
       "       48.76226807, 48.83760834, 47.91471863, 48.18781662, 47.86763382,\n",
       "       48.54567337, 48.55508804, 47.86763382, 46.48330688, 49.42147446,\n",
       "       48.20664978, 46.70931625, 49.04478073, 46.06894302, 46.85057449,\n",
       "       47.07659149, 47.44386292, 45.94652557, 46.66223526, 48.28198624])"
      ]
     },
     "execution_count": 251,
     "metadata": {},
     "output_type": "execute_result"
    }
   ],
   "source": [
    "X_sample_tr[0, :, 5]"
   ]
  },
  {
   "cell_type": "code",
   "execution_count": 253,
   "metadata": {
    "colab": {
     "base_uri": "https://localhost:8080/",
     "height": 293
    },
    "id": "bRDV3gHof7KI",
    "outputId": "9cc0ccaf-ba14-45f8-b34e-431eccf7073b",
    "scrolled": true
   },
   "outputs": [
    {
     "data": {
      "image/png": "[encoded data removed]",
      "text/plain": [
       "<Figure size 432x288 with 1 Axes>"
      ]
     },
     "metadata": {
      "needs_background": "light"
     },
     "output_type": "display_data"
    }
   ],
   "source": [
    "# Plot radnom date validation forecast\n",
    "n_steps = 30\n",
    "ahead = 10\n",
    "y_pred = model.predict(X_sample_val)\n",
    "def plot_multiple_forecasts(X, Y, Y_pred):\n",
    "    n_steps = X.shape[1]\n",
    "    ahead = Y.shape[1]\n",
    "    # AMZN second column\n",
    "    n_steps = 30\n",
    "    ahead = 10\n",
    "    plot_series(X[0, :, 5])\n",
    "    plt.plot(np.arange(n_steps, n_steps + ahead), Y[0, 29, :], \"ro-\", label=\"Actual\")\n",
    "    plt.plot(np.arange(n_steps, n_steps + ahead), Y_pred[0, 29, :], \"bx-\", label=\"Forecast\", markersize=10)\n",
    "    plt.axis([0, n_steps + ahead, 40, 60])\n",
    "    plt.legend(fontsize=14)\n",
    "\n",
    "plot_multiple_forecasts(X_sample_val, y_sample_val, y_pred)\n"
   ]
  }
 ],
 "metadata": {
  "colab": {
   "collapsed_sections": [
    "67_i_onkguSA",
    "WHrKecuKguSA",
    "uVWLHUuFguSB",
    "3Gjh79EjguSC",
    "men5ztYPguSE",
    "wv_JrQ6_guSG",
    "grkptS0HguSK",
    "bsAL8LWfguSO",
    "rrLNykbyguSP"
   ],
   "name": "Lesson 11 RNN.ipynb",
   "provenance": []
  },
  "kernelspec": {
   "display_name": "Python 3",
   "language": "python",
   "name": "python3"
  },
  "language_info": {
   "codemirror_mode": {
    "name": "ipython",
    "version": 3
   },
   "file_extension": ".py",
   "mimetype": "text/x-python",
   "name": "python",
   "nbconvert_exporter": "python",
   "pygments_lexer": "ipython3",
   "version": "3.8.3"
  },
  "nav_menu": {},
  "toc": {
   "navigate_menu": true,
   "number_sections": true,
   "sideBar": true,
   "threshold": 6,
   "toc_cell": false,
   "toc_section_display": "block",
   "toc_window_display": false
  }
 },
 "nbformat": 4,
 "nbformat_minor": 1
}
