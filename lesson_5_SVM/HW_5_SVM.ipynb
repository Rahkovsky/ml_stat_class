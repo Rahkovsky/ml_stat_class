{
  "nbformat": 4,
  "nbformat_minor": 0,
  "metadata": {
    "kernelspec": {
      "display_name": "Python 3",
      "language": "python",
      "name": "python3"
    },
    "language_info": {
      "codemirror_mode": {
        "name": "ipython",
        "version": 3
      },
      "file_extension": ".py",
      "mimetype": "text/x-python",
      "name": "python",
      "nbconvert_exporter": "python",
      "pygments_lexer": "ipython3",
      "version": "3.5.0"
    },
    "colab": {
      "name": "HW 6 SVM.ipynb",
      "provenance": [],
      "collapsed_sections": []
    }
  },
  "cells": [
    {
      "cell_type": "markdown",
      "metadata": {
        "id": "sSFy15qVYy2D",
        "colab_type": "text"
      },
      "source": [
        "# Problem 1 \n",
        "Load Iris data. Estimate the SVM classifier of two types of Iris using hard margin SVM (C = Inf) cross-validation = 3. Use the code below.For fit measure use default cross-validation score -- share correct predictions. Can you estimate the model? If you cannot why?"
      ]
    },
    {
      "cell_type": "code",
      "metadata": {
        "id": "_oqUje5DYy2F",
        "colab_type": "code",
        "colab": {}
      },
      "source": [
        "# Common imports\n",
        "import numpy as np\n",
        "import os\n",
        "# to make this notebook's output stable across runs\n",
        "np.random.seed(42)\n",
        "# To plot pretty figures\n",
        "%matplotlib inline\n",
        "import matplotlib\n",
        "import matplotlib.pyplot as plt\n",
        "plt.rcParams['axes.labelsize'] = 14\n",
        "plt.rcParams['xtick.labelsize'] = 12\n",
        "plt.rcParams['ytick.labelsize'] = 12"
      ],
      "execution_count": null,
      "outputs": []
    },
    {
      "cell_type": "code",
      "metadata": {
        "id": "kbU3fTKxYy2M",
        "colab_type": "code",
        "colab": {}
      },
      "source": [
        "from sklearn.svm import SVC\n",
        "from sklearn.model_selection import cross_val_score\n",
        "# import datasets\n",
        "from sklearn import datasets\n",
        "iris = datasets.load_iris()\n",
        "X = iris[\"data\"][:,(1,2)]  # Use all X\n",
        "y = iris[\"target\"]\n",
        "virginica_or_versicolor = (y == 2) | (y == 1)\n",
        "X = X[virginica_or_versicolor]\n",
        "y = y[virginica_or_versicolor]"
      ],
      "execution_count": null,
      "outputs": []
    },
    {
      "cell_type": "code",
      "metadata": {
        "id": "WThAGHS6Yy2Q",
        "colab_type": "code",
        "colab": {}
      },
      "source": [
        ""
      ],
      "execution_count": null,
      "outputs": []
    },
    {
      "cell_type": "markdown",
      "metadata": {
        "id": "xAKAY7w0Yy2T",
        "colab_type": "text"
      },
      "source": [
        "# Problem 2\n",
        "Run the same model with a soft margin: C = 1 and plot decision boundary. Don't forget to use \n",
        "plt.plot(X[:, 0][y==2], X[:, 1][y==2], \"ms\") when plotting instead of plt.plot(X[:, 0][y==0], X[:, 1][y==0], \"ms\"). Describe the results in Problem 2 and 1. Why do we get these results? CV = 5"
      ]
    },
    {
      "cell_type": "code",
      "metadata": {
        "id": "qgUtPCG7Yy2T",
        "colab_type": "code",
        "colab": {}
      },
      "source": [
        ""
      ],
      "execution_count": null,
      "outputs": []
    },
    {
      "cell_type": "code",
      "metadata": {
        "id": "Xzsu8RKbYy2X",
        "colab_type": "code",
        "colab": {}
      },
      "source": [
        ""
      ],
      "execution_count": null,
      "outputs": []
    },
    {
      "cell_type": "markdown",
      "metadata": {
        "id": "dmt7OBpYYy2a",
        "colab_type": "text"
      },
      "source": [
        "# Problem 3: \n",
        "Reestimate model in problem 2 with a) optimal C parameter. Loop through a vector 1000 random numbers from .05 to 5.  b) scaled data and C = 1. Which produces better cross-validation score?\n",
        "\n",
        "If more than one parameter produces the highest cross validation score choose the smallest C that maximuzes cross-validation"
      ]
    },
    {
      "cell_type": "code",
      "metadata": {
        "id": "0q7DAPdNYy2a",
        "colab_type": "code",
        "colab": {}
      },
      "source": [
        "np.random.seed(42)"
      ],
      "execution_count": null,
      "outputs": []
    },
    {
      "cell_type": "code",
      "metadata": {
        "id": "bCOEDhINYy2c",
        "colab_type": "code",
        "colab": {}
      },
      "source": [
        "\n"
      ],
      "execution_count": null,
      "outputs": []
    },
    {
      "cell_type": "code",
      "metadata": {
        "id": "M1aBOIqgYy2f",
        "colab_type": "code",
        "colab": {}
      },
      "source": [
        ""
      ],
      "execution_count": null,
      "outputs": []
    },
    {
      "cell_type": "code",
      "metadata": {
        "id": "L8kPWbYtYy2i",
        "colab_type": "code",
        "colab": {}
      },
      "source": [
        "\n"
      ],
      "execution_count": null,
      "outputs": []
    },
    {
      "cell_type": "code",
      "metadata": {
        "id": "eBJH2PHcYy2k",
        "colab_type": "code",
        "colab": {}
      },
      "source": [
        ""
      ],
      "execution_count": null,
      "outputs": []
    },
    {
      "cell_type": "code",
      "metadata": {
        "id": "0ZPp4r_7Yy2m",
        "colab_type": "code",
        "colab": {}
      },
      "source": [
        "# Answer: the validation scores are the same"
      ],
      "execution_count": null,
      "outputs": []
    },
    {
      "cell_type": "markdown",
      "metadata": {
        "id": "ooI5kMl6Yy2o",
        "colab_type": "text"
      },
      "source": [
        "# Problem 4 \n",
        "Use full data for Irises. Scale the data created below. Estimate baseline SVM model with C = 1, calculate cross-validation score with cv =5.  The estimate the same model with 10th degree polynomial of X. Report averages for both models."
      ]
    },
    {
      "cell_type": "code",
      "metadata": {
        "id": "4biWwU_cYy2o",
        "colab_type": "code",
        "colab": {}
      },
      "source": [
        "from sklearn.svm import SVC\n",
        "# import datasets\n",
        "from sklearn.preprocessing import PolynomialFeatures\n",
        "from sklearn import datasets\n",
        "iris = datasets.load_iris()\n",
        "X = iris[\"data\"]\n",
        "y = iris[\"target\"]"
      ],
      "execution_count": 1,
      "outputs": []
    },
    {
      "cell_type": "code",
      "metadata": {
        "id": "4Z9OvnshYy2q",
        "colab_type": "code",
        "colab": {}
      },
      "source": [
        ""
      ],
      "execution_count": 1,
      "outputs": []
    },
    {
      "cell_type": "code",
      "metadata": {
        "id": "tikJa6t8Yy2r",
        "colab_type": "code",
        "colab": {}
      },
      "source": [
        ""
      ],
      "execution_count": 1,
      "outputs": []
    },
    {
      "cell_type": "markdown",
      "metadata": {
        "id": "dveL6TXmYy2t",
        "colab_type": "text"
      },
      "source": [
        "# Problem 5 \n",
        "Create a datasets of moons below. Estimate the SVM model using 10 degress polynomial and C =1. Create polynomials in two ways: a) use PolynomialFeatures(degree=10), b) use kernel SVC(kernel=\"poly\", degree=10, coef0=1, C=1). Use cross-validation cv =5 and report average score. Measure the time of using a kernel relatively to the polynomial features. "
      ]
    },
    {
      "cell_type": "code",
      "metadata": {
        "id": "yrRfspavYy2t",
        "colab_type": "code",
        "colab": {}
      },
      "source": [
        "from sklearn.datasets import make_moons\n",
        "X, y = make_moons(n_samples=10000, noise=0.28, random_state=42)"
      ],
      "execution_count": null,
      "outputs": []
    },
    {
      "cell_type": "code",
      "metadata": {
        "id": "RXoNUmHWYy2u",
        "colab_type": "code",
        "colab": {}
      },
      "source": [
        ""
      ],
      "execution_count": 2,
      "outputs": []
    },
    {
      "cell_type": "code",
      "metadata": {
        "id": "TwR4FYEoYy2v",
        "colab_type": "code",
        "colab": {}
      },
      "source": [
        ""
      ],
      "execution_count": 3,
      "outputs": []
    },
    {
      "cell_type": "code",
      "metadata": {
        "id": "rwAu5eklYy2x",
        "colab_type": "code",
        "colab": {}
      },
      "source": [
        ""
      ],
      "execution_count": 3,
      "outputs": []
    },
    {
      "cell_type": "code",
      "metadata": {
        "id": "HVhPVRFwYy2y",
        "colab_type": "code",
        "colab": {}
      },
      "source": [
        ""
      ],
      "execution_count": 4,
      "outputs": []
    },
    {
      "cell_type": "code",
      "metadata": {
        "id": "tflmLMlhYy2z",
        "colab_type": "code",
        "colab": {}
      },
      "source": [
        ""
      ],
      "execution_count": 4,
      "outputs": []
    },
    {
      "cell_type": "markdown",
      "metadata": {
        "id": "mynneLtbYy21",
        "colab_type": "text"
      },
      "source": [
        "# Problem 6\n",
        "Run gaussian Kernel RBF 4th degree polynomial and a Sigmoid Kernel 10th degree polynomial . \n",
        "Predict Y using cross-validation cv=5 and C =1. Use scaled X data. Report average score and time for each estimation. Is it higher than the 4-degree polinomial?"
      ]
    },
    {
      "cell_type": "code",
      "metadata": {
        "id": "uB4Jxm9mYy21",
        "colab_type": "code",
        "colab": {}
      },
      "source": [
        "# set random_state = 42 in the SVC commands"
      ],
      "execution_count": 5,
      "outputs": []
    },
    {
      "cell_type": "code",
      "metadata": {
        "id": "cq651vASYy22",
        "colab_type": "code",
        "colab": {}
      },
      "source": [
        ""
      ],
      "execution_count": 5,
      "outputs": []
    },
    {
      "cell_type": "code",
      "metadata": {
        "id": "IADqrF-cYy23",
        "colab_type": "code",
        "colab": {}
      },
      "source": [
        ""
      ],
      "execution_count": 5,
      "outputs": []
    },
    {
      "cell_type": "code",
      "metadata": {
        "id": "CnSAhjbMo6oU",
        "colab_type": "code",
        "colab": {}
      },
      "source": [
        ""
      ],
      "execution_count": null,
      "outputs": []
    }
  ]
}
