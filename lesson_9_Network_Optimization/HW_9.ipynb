{
 "cells": [
  {
   "cell_type": "code",
   "execution_count": 3,
   "metadata": {
    "colab": {},
    "colab_type": "code",
    "id": "KxWUeUQjsqr0"
   },
   "outputs": [
    {
     "name": "stdout",
     "output_type": "stream",
     "text": [
      "The tensorboard extension is already loaded. To reload it, use:\n",
      "  %reload_ext tensorboard\n"
     ]
    }
   ],
   "source": [
    "# Python ≥3.5 is required\n",
    "import sys\n",
    "assert sys.version_info >= (3, 5)\n",
    "\n",
    "# Scikit-Learn ≥0.20 is required\n",
    "import sklearn\n",
    "assert sklearn.__version__ >= \"0.20\"\n",
    "\n",
    "try:\n",
    "    # %tensorflow_version only exists in Colab.\n",
    "    %tensorflow_version 2.x\n",
    "except Exception:\n",
    "    pass\n",
    "\n",
    "# TensorFlow ≥2.0 is required\n",
    "import tensorflow as tf\n",
    "from tensorflow import keras\n",
    "assert tf.__version__ >= \"2.0\"\n",
    "\n",
    "%load_ext tensorboard\n",
    "\n",
    "# Common imports\n",
    "import numpy as np\n",
    "import os\n",
    "import tensorflow as tf\n",
    "import pandas as pd\n",
    "\n",
    "# to make this notebook's output stable across runs\n",
    "np.random.seed(42)\n",
    "\n",
    "# To plot pretty figures\n",
    "%matplotlib inline\n",
    "import matplotlib as mpl\n",
    "import matplotlib.pyplot as plt\n",
    "mpl.rc('axes', labelsize=14)\n",
    "mpl.rc('xtick', labelsize=12)\n",
    "mpl.rc('ytick', labelsize=12)\n",
    "\n",
    "# Where to save the figures\n",
    "PROJECT_ROOT_DIR = \".\"\n",
    "CHAPTER_ID = \"deep\"\n",
    "IMAGES_PATH = os.path.join(PROJECT_ROOT_DIR, \"images\", CHAPTER_ID)\n",
    "os.makedirs(IMAGES_PATH, exist_ok=True)\n",
    "\n",
    "def save_fig(fig_id, tight_layout=True, fig_extension=\"png\", resolution=300):\n",
    "    path = os.path.join(IMAGES_PATH, fig_id + \".\" + fig_extension)\n",
    "    print(\"Saving figure\", fig_id)\n",
    "    if tight_layout:\n",
    "        plt.tight_layout()\n",
    "    plt.savefig(path, format=fig_extension, dpi=resolution)\n"
   ]
  },
  {
   "cell_type": "code",
   "execution_count": 4,
   "metadata": {
    "colab": {},
    "colab_type": "code",
    "id": "mUFrzJ0ssqr_"
   },
   "outputs": [],
   "source": [
    "#Load MNIST Tree Data set \n",
    "from sklearn.datasets import fetch_openml\n",
    "from sklearn.model_selection import train_test_split\n",
    "import numpy as np\n",
    "import random\n",
    "random.seed(42)\n",
    "import tensorflow as tf\n",
    "mnist = fetch_openml('mnist_784', version=1)\n",
    "mnist.keys()\n",
    "X_train, X_test, y_train, y_test = train_test_split(mnist[\"data\"]/255., mnist[\"target\"].astype(int), test_size=0.25, random_state=42)\n"
   ]
  },
  {
   "cell_type": "code",
   "execution_count": null,
   "metadata": {
    "colab": {},
    "colab_type": "code",
    "id": "A_HnVDYliZYO"
   },
   "outputs": [],
   "source": []
  },
  {
   "cell_type": "markdown",
   "metadata": {
    "colab_type": "text",
    "id": "sts6PjdVsqsd"
   },
   "source": [
    "# Problem 1.\n",
    "Estimate Neurnal Network model predicting the tree type with two layers [100, 20] neurons. Report accuracy of prediction for testing and training data. Use  RELU actication function. What is the testing accuracy and the estimation time?<br>\n",
    "Use `optimizer=keras.optimizers.SGD(lr=1e-3)` and 10 epochs\n",
    "What is the testing accuracy?\n",
    "Do you think more epochs will improve perfomance? <br>\n",
    "\n",
    "In the future we will refer to this model as a default one."
   ]
  },
  {
   "cell_type": "code",
   "execution_count": 5,
   "metadata": {
    "colab": {},
    "colab_type": "code",
    "id": "lNXWEV8Jsqse"
   },
   "outputs": [],
   "source": [
    "import tensorflow as tf\n",
    "import time\n",
    "n_inputs = 28*28\n",
    "n_outputs =  10\n",
    "num_epochs=10"
   ]
  },
  {
   "cell_type": "code",
   "execution_count": 1,
   "metadata": {
    "colab": {},
    "colab_type": "code",
    "id": "3uYtJn6KtXS7"
   },
   "outputs": [],
   "source": [
    "\n"
   ]
  },
  {
   "cell_type": "code",
   "execution_count": 2,
   "metadata": {
    "colab": {},
    "colab_type": "code",
    "id": "sOsnrFwxunqt"
   },
   "outputs": [],
   "source": []
  },
  {
   "cell_type": "markdown",
   "metadata": {
    "colab_type": "text",
    "id": "Ap9_JI3dsqst"
   },
   "source": [
    "# Problem 2:\n",
    "Try different activation function: SELU, ELU. Please report changes to the default accuracy and estimation duration. Don't forget to choose correct weight initialization for each activation function"
   ]
  },
  {
   "cell_type": "code",
   "execution_count": 2,
   "metadata": {
    "colab": {},
    "colab_type": "code",
    "id": "52IsBK8Qsqsu"
   },
   "outputs": [],
   "source": [
    "\n"
   ]
  },
  {
   "cell_type": "markdown",
   "metadata": {
    "colab_type": "text",
    "id": "8tridkw2sqtH"
   },
   "source": [
    "Problem 3: Use the default model from #1, try to change optmizers to 'Adagrad', 'Adam', 'RMSProp', 'SGD' and measure the difference in accuracy and speed. For each optmizer use learning rate: (lr=1e-3), leave other parameters as default."
   ]
  },
  {
   "cell_type": "code",
   "execution_count": 2,
   "metadata": {
    "colab": {},
    "colab_type": "code",
    "id": "ol81740ssqtI"
   },
   "outputs": [],
   "source": []
  },
  {
   "cell_type": "code",
   "execution_count": 2,
   "metadata": {
    "colab": {},
    "colab_type": "code",
    "id": "XXxKYc6KsqtN"
   },
   "outputs": [],
   "source": []
  },
  {
   "cell_type": "markdown",
   "metadata": {
    "colab_type": "text",
    "id": "-kKzpOGYvhMH"
   },
   "source": [
    "4. Please do the following: Take a random sample of 1000 observations from the training data of numbers 9.<br>\n",
    "\n",
    "4.1 Estimate a  model with [200,50] hidden layers on the digits 1-7 with [10 epochs] on the data [X_train_A, y_train_A]. Save the results <br>\n",
    "4.2 Estimate model with [200,50] hidden layers predicting digit 9 with [20 epochs] on the data [X_train_B, y_train_B]. Save the results. This is a small-data enviroment withouht reusing of layers. Report accuracy.<br>\n",
    "4.3 Estimate model with [200,50] hidden layers predicting digit 9 with [20 epochs] on the data [X_train_B, y_train_B].  Reuse hidden layers [200,50] of the model estimated in 4.1. Run sample estimation for 5 epochs freezing the reused layers and then for 15 epochs allowing the reused layers to vary. The sample model should include: input layers, [200,50] layers reused, a top softmax layer for the outputs.<br>"
   ]
  },
  {
   "cell_type": "code",
   "execution_count": 6,
   "metadata": {
    "colab": {},
    "colab_type": "code",
    "id": "og0aKH30xKaJ"
   },
   "outputs": [],
   "source": [
    "# sample \n",
    "def split_dataset(X, y):\n",
    "    y_89 = (y == 8) | (y == 9)  # numbers 1,5,7\n",
    "    y_A = y[~y_89]\n",
    "    y_B = (y[y_89] == 9).astype(np.float32) # binary classification task: is 9)?\n",
    "    return ((X[~y_89], y_A),\n",
    "            (X[y_89], y_B))\n",
    "# split data into training, validation and testing\n",
    "(X_train_A, y_train_A), (X_train_B, y_train_B) = split_dataset(X_train, y_train)\n",
    "(X_test_A, y_test_A), (X_test_B, y_test_B) = split_dataset(X_test, y_test)\n",
    "# get small training data to simulate low-resource model\n",
    "X_train_B = X_train_B[:1000]\n",
    "y_train_B = y_train_B[:1000]"
   ]
  },
  {
   "cell_type": "code",
   "execution_count": 7,
   "metadata": {
    "colab": {
     "base_uri": "https://localhost:8080/",
     "height": 68
    },
    "colab_type": "code",
    "id": "cpHNmSFc14t7",
    "outputId": "d793ca73-fa8d-4b68-b20d-964bbed3b912"
   },
   "outputs": [
    {
     "name": "stdout",
     "output_type": "stream",
     "text": [
      "[3 2 2 3 0 3 7 3 5 7 3 1 0 3 7 0 4 1 1 0 1 0 7 0 3 7 2 4 0 6]\n",
      "[0. 1. 1. 1. 0. 0. 0. 0. 1. 1. 0. 1. 0. 0. 0. 1. 1. 0. 0. 1. 1. 1. 0. 1.\n",
      " 1. 1. 1. 0. 0. 1.]\n"
     ]
    }
   ],
   "source": [
    "# Full training\n",
    "print(y_train_A[:30])\n",
    "print(y_train_B[:30])"
   ]
  },
  {
   "cell_type": "code",
   "execution_count": 2,
   "metadata": {
    "colab": {},
    "colab_type": "code",
    "id": "vGRtg5YNxDYi"
   },
   "outputs": [],
   "source": []
  },
  {
   "cell_type": "code",
   "execution_count": 3,
   "metadata": {
    "colab": {},
    "colab_type": "code",
    "id": "FTidtyWr2Qd5"
   },
   "outputs": [],
   "source": [
    "#  New model\n",
    "\n"
   ]
  },
  {
   "cell_type": "code",
   "execution_count": 4,
   "metadata": {
    "colab": {},
    "colab_type": "code",
    "id": "Q3h72kMv2tja"
   },
   "outputs": [],
   "source": [
    "# New model reused layers:\n"
   ]
  },
  {
   "cell_type": "code",
   "execution_count": 4,
   "metadata": {
    "colab": {},
    "colab_type": "code",
    "id": "IHmGOwtRE79K"
   },
   "outputs": [],
   "source": []
  },
  {
   "cell_type": "markdown",
   "metadata": {
    "colab_type": "text",
    "id": "LC_po5S4FcTX"
   },
   "source": [
    "5. Add batch normalization and 10% drop-out to the default model in #1. Report the change in accuracy."
   ]
  },
  {
   "cell_type": "code",
   "execution_count": 4,
   "metadata": {
    "colab": {},
    "colab_type": "code",
    "id": "dm_nTxE7FTGp"
   },
   "outputs": [],
   "source": []
  },
  {
   "cell_type": "code",
   "execution_count": null,
   "metadata": {
    "colab": {},
    "colab_type": "code",
    "id": "6-W1GNX7GQMi"
   },
   "outputs": [],
   "source": []
  },
  {
   "cell_type": "code",
   "execution_count": null,
   "metadata": {
    "colab": {},
    "colab_type": "code",
    "id": "x6CMvvvSIWuY"
   },
   "outputs": [],
   "source": []
  }
 ],
 "metadata": {
  "colab": {
   "collapsed_sections": [],
   "name": "HW_9.ipynb",
   "provenance": []
  },
  "kernelspec": {
   "display_name": "Python 3",
   "language": "python",
   "name": "python3"
  },
  "language_info": {
   "codemirror_mode": {
    "name": "ipython",
    "version": 3
   },
   "file_extension": ".py",
   "mimetype": "text/x-python",
   "name": "python",
   "nbconvert_exporter": "python",
   "pygments_lexer": "ipython3",
   "version": "3.8.3"
  }
 },
 "nbformat": 4,
 "nbformat_minor": 1
}
